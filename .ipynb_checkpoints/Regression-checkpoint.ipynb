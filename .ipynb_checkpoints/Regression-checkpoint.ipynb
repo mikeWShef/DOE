{
 "cells": [
  {
   "cell_type": "markdown",
   "metadata": {},
   "source": [
    "# Regession for hypothesis testing\n",
    "Linear regression is an extremely powerful tool for testing trends in your data and controling for factors that you could measure but not alter during testing. \n",
    "\n",
    "These tests allow you to see trends without necessarily repeting tests, instead multiple levels can be tested along a single independent variable. For example, if you want to test a trend in wear life with normal load for a sliding contact. You could test at a variety of different loads and fit a linear trend to the resutls. With this design you can statistically test the trend without repeating any particular loading condition.\n",
    "\n",
    "In this note book we will make a dataset and shown this process, we will also show how to control for factors that you have measured, how to test the assumptions of the model and how to interpret the results of this process.\n",
    "\n",
    "---\n",
    "\n",
    "## Assumptions\n",
    "In this notebook we will fit a ordinary least squares model ot our results, this is a special type of general linear model which assumes that the error between the model and the data is normally distributed. General linear models can fit the data assuming any desired distribution for this error. In addition to this, both OLS and GLM models assume that the error is the same everywhere in the modeled domain.\n",
    "\n",
    "The assumptions of these models are important, the assumptions that you make about the error between the model and the data control the fitting process, you will get different results depending on what you assume. For example if you know that the error is very low in some region, for example at low speeds, then these results should matter more in the fitting process, being x units away from these points is less likely than being x units away from points with higher error, thus the line of 'best fit' provided by the model should be closer to these points."
   ]
  },
  {
   "cell_type": "markdown",
   "metadata": {},
   "source": [
    "# Basic example\n",
    "In this fist example we will use a single independent variable, which we will call 'force' to predice the response variable which we will call 'wear'. First we will import some useful packages and generate some example data."
   ]
  },
  {
   "cell_type": "code",
   "execution_count": 4,
   "metadata": {},
   "outputs": [],
   "source": [
    "import numpy as np\n",
    "import matplotlib.pyplot as plt\n",
    "import statsmodels.formula.api as smf\n",
    "import pandas as pd\n",
    "from IPython.display import display"
   ]
  },
  {
   "cell_type": "code",
   "execution_count": 19,
   "metadata": {},
   "outputs": [
    {
     "data": {
      "text/html": [
       "<div>\n",
       "<style scoped>\n",
       "    .dataframe tbody tr th:only-of-type {\n",
       "        vertical-align: middle;\n",
       "    }\n",
       "\n",
       "    .dataframe tbody tr th {\n",
       "        vertical-align: top;\n",
       "    }\n",
       "\n",
       "    .dataframe thead th {\n",
       "        text-align: right;\n",
       "    }\n",
       "</style>\n",
       "<table border=\"1\" class=\"dataframe\">\n",
       "  <thead>\n",
       "    <tr style=\"text-align: right;\">\n",
       "      <th></th>\n",
       "      <th>force</th>\n",
       "      <th>wear</th>\n",
       "    </tr>\n",
       "  </thead>\n",
       "  <tbody>\n",
       "    <tr>\n",
       "      <th>0</th>\n",
       "      <td>5.0</td>\n",
       "      <td>6.587647</td>\n",
       "    </tr>\n",
       "    <tr>\n",
       "      <th>1</th>\n",
       "      <td>6.0</td>\n",
       "      <td>6.360141</td>\n",
       "    </tr>\n",
       "    <tr>\n",
       "      <th>2</th>\n",
       "      <td>7.0</td>\n",
       "      <td>7.880864</td>\n",
       "    </tr>\n",
       "    <tr>\n",
       "      <th>3</th>\n",
       "      <td>8.0</td>\n",
       "      <td>10.016804</td>\n",
       "    </tr>\n",
       "    <tr>\n",
       "      <th>4</th>\n",
       "      <td>9.0</td>\n",
       "      <td>10.680802</td>\n",
       "    </tr>\n",
       "    <tr>\n",
       "      <th>5</th>\n",
       "      <td>10.0</td>\n",
       "      <td>9.120450</td>\n",
       "    </tr>\n",
       "  </tbody>\n",
       "</table>\n",
       "</div>"
      ],
      "text/plain": [
       "   force       wear\n",
       "0    5.0   6.587647\n",
       "1    6.0   6.360141\n",
       "2    7.0   7.880864\n",
       "3    8.0  10.016804\n",
       "4    9.0  10.680802\n",
       "5   10.0   9.120450"
      ]
     },
     "metadata": {},
     "output_type": "display_data"
    }
   ],
   "source": [
    "# generating some noisey data\n",
    "np.random.seed(0)\n",
    "force = np.linspace(5,10,6)\n",
    "wear = force + 0.9*np.random.randn(force.size)\n",
    "data = pd.DataFrame({'force': force, 'wear': wear})\n",
    "display(data)"
   ]
  },
  {
   "cell_type": "markdown",
   "metadata": {},
   "source": [
    "As you can see this is pretty noisy data, and just looking at the table of results a trend is not obvious. We will now fit a linear model to this data to see if the trends are statistically significant."
   ]
  },
  {
   "cell_type": "code",
   "execution_count": 20,
   "metadata": {},
   "outputs": [
    {
     "name": "stdout",
     "output_type": "stream",
     "text": [
      "                            OLS Regression Results                            \n",
      "==============================================================================\n",
      "Dep. Variable:                   wear   R-squared:                       0.686\n",
      "Model:                            OLS   Adj. R-squared:                  0.608\n",
      "Method:                 Least Squares   F-statistic:                     8.756\n",
      "Date:                Wed, 04 Mar 2020   Prob (F-statistic):             0.0416\n",
      "Time:                        20:58:03   Log-Likelihood:                -7.9845\n",
      "No. Observations:                   6   AIC:                             19.97\n",
      "Df Residuals:                       4   BIC:                             19.55\n",
      "Df Model:                           1                                         \n",
      "Covariance Type:            nonrobust                                         \n",
      "==============================================================================\n",
      "                 coef    std err          t      P>|t|      [0.025      0.975]\n",
      "------------------------------------------------------------------------------\n",
      "Intercept      2.4921      2.062      1.209      0.293      -3.233       8.217\n",
      "force          0.7932      0.268      2.959      0.042       0.049       1.537\n",
      "==============================================================================\n",
      "Omnibus:                          nan   Durbin-Watson:                   1.775\n",
      "Prob(Omnibus):                    nan   Jarque-Bera (JB):                0.504\n",
      "Skew:                          -0.028   Prob(JB):                        0.777\n",
      "Kurtosis:                       1.581   Cond. No.                         35.2\n",
      "==============================================================================\n",
      "\n",
      "Warnings:\n",
      "[1] Standard Errors assume that the covariance matrix of the errors is correctly specified.\n"
     ]
    },
    {
     "name": "stderr",
     "output_type": "stream",
     "text": [
      "C:\\Users\\44779\\Anaconda3\\envs\\ac2t\\lib\\site-packages\\statsmodels\\stats\\stattools.py:71: ValueWarning: omni_normtest is not valid with less than 8 observations; 6 samples were given.\n",
      "  \"samples were given.\" % int(n), ValueWarning)\n"
     ]
    }
   ],
   "source": [
    "model = smf.ols('wear ~ force', data=data)\n",
    "results = model.fit()\n",
    "print(results.summary())"
   ]
  },
  {
   "cell_type": "markdown",
   "metadata": {},
   "source": [
    "So we have fitted our model and now we have a whole table of confusing numbers. Everything on the top left is self explanatory, so lets start with the stuff at the top on the left.\n",
    "\n",
    "R-squared is a measure of how well the model fits the data. An $R^2$ of 1 means that the model perfectly fits, and 0 means that the model dosn't fit at all. A 'good' $R^2$ depends on the situation, in the social sciences they consider anything above 0.1 to be great because there is a lot of varitinon in people, if you are modelling the results from numerical simulation you might aim for 0.9 or higher.\n",
    "\n",
    "Adjusted-R-squared has been adjusted to acount for the complexity of the model and how much data we have, a model with a lot of flexability will naturrally fit data better, this metric acounts for this.\n",
    "\n",
    "The F statistic anf the Prob (or p-value) for the whole model are next. This is similar to the p-value for any other test, but our null hypothesis is that ALL of the terms in the model (apart from the mean) are zero. So if any of the terms are significant, this will be significant too, practically this number is almost never useful.\n",
    "\n",
    "The log-likely hood is the parameter we optimised to fit the model, this is how likely our data is given our model, the sum of the likely hood for each point in our data.\n",
    "\n",
    "Next are the AIC and BIC, these are used to compare models which model the same data, just like the adjusted version of the $R^2$ these take into account the number of terms in our model.\n",
    "\n",
    "Now lets look at the main part of the table, this is a list of each factor in the model and some datails about the factor. In our model we just have the intercept and the force. The first item for each is the coefficient. In our example we hae fitted the line y = mx + c, where y is the wear and x is the force. The coefficients are c and m for the intercepet and the force lines in the table respectively. The absolute values of these coefficients will change depending on the units of the term they relate to, you should keep this in mind when comparing them.\n",
    "\n",
    "The t and p>|t| terms are the test statistic and the p value for each term in the model. We can see that, in our model, the p-value for the slope is significant, meaning that finding this slope in the data would be unlikely if the null hypothesis were true. However, the p-value for the intercept is not significant, this make sense as the c in our equation y=mx+c was 0. \n",
    "\n",
    "The remaining items at the bottom of the table are tests on the residuals of the model. The residual values are the values of the data minus the values which the model predicts for each point. This can be thought of as the erro terms between what our model predicts and what we actually observed. Most of the tests here are testing the assumption that the residuals are normally distributed, which is an assumption built into the ordinary least squares model.\n",
    "\n",
    "These tabular results are good, but we can see more information about our model by plotting these. Below we will generate some useful plots of the model and our data."
   ]
  },
  {
   "cell_type": "markdown",
   "metadata": {},
   "source": [
    "# Plots of our model\n",
    "First we will plot the predicitons of the model vs what we actually observed."
   ]
  },
  {
   "cell_type": "code",
   "execution_count": 32,
   "metadata": {},
   "outputs": [
    {
     "data": {
      "text/plain": [
       "Text(0, 0.5, 'predicted values')"
      ]
     },
     "execution_count": 32,
     "metadata": {},
     "output_type": "execute_result"
    },
    {
     "data": {
      "image/png": "[encoded data removed]",
      "text/plain": [
       "<Figure size 432x288 with 1 Axes>"
      ]
     },
     "metadata": {
      "needs_background": "light"
     },
     "output_type": "display_data"
    }
   ],
   "source": [
    "x = data['wear']\n",
    "y = results.predict(data['force'])\n",
    "plt.scatter(x, y)\n",
    "plt.plot([min(x),max(x)],[min(x),max(x)])\n",
    "ax = plt.gca()\n",
    "ax.set_xlabel('Actual values')\n",
    "ax.set_ylabel('predicted values')"
   ]
  },
  {
   "cell_type": "markdown",
   "metadata": {},
   "source": [
    "Here we have a very small number of samples but it is good practice to graphically check for normality in the residuals by using a QQ plot, this pots the quantiles of our residuals vs the quantiles of a normal distribution. We want then to be in a straight line, but this is unlikley for such a small sample. For very large sampels even slight deviaitons from a straight line could mean that the assumption of normality is not met or that the model dosn't fit the data well and it is missing behaviours."
   ]
  },
  {
   "cell_type": "code",
   "execution_count": 35,
   "metadata": {},
   "outputs": [
    {
     "data": {
      "image/png": "[encoded data removed]",
      "text/plain": [
       "<Figure size 432x288 with 1 Axes>"
      ]
     },
     "metadata": {
      "needs_background": "light"
     },
     "output_type": "display_data"
    }
   ],
   "source": [
    "from statsmodels.graphics.gofplots import qqplot\n",
    "ax = qqplot(results.resid)"
   ]
  },
  {
   "cell_type": "markdown",
   "metadata": {},
   "source": [
    "# Dealing with sources of variaiton which you can measure\n",
    "Another benefit of these models is that they are capable of controling for sources of varaition that you could measure during the experiment but not directly control. For example, if you thought that is was possible the humidity was affecting your results and you measured the humidity during every test but were unable to control it. In this case you can add humidity terms to the model and see if your results are still significant when this variation is accounted for.\n",
    "\n",
    "Again lets start by generating some test data, in reality your data will come from your experiments."
   ]
  },
  {
   "cell_type": "code",
   "execution_count": 51,
   "metadata": {},
   "outputs": [
    {
     "data": {
      "text/plain": [
       "Text(0, 0.5, 'Wear')"
      ]
     },
     "execution_count": 51,
     "metadata": {},
     "output_type": "execute_result"
    },
    {
     "data": {
      "image/png": "[encoded data removed]",
      "text/plain": [
       "<Figure size 432x288 with 1 Axes>"
      ]
     },
     "metadata": {
      "needs_background": "light"
     },
     "output_type": "display_data"
    }
   ],
   "source": [
    "n = 40\n",
    "force = np.linspace(1,10,n)\n",
    "humidity = np.random.rand(n)*0.5+0.25\n",
    "wear = 1 + 0.3*force + -0.5*humidity**2 + 10*humidity + 0.5*np.random.randn(n)\n",
    "data = pd.DataFrame({'force':force, 'humidity':humidity, 'wear':wear})\n",
    "plt.plot(force, wear)\n",
    "ax = plt.gca()\n",
    "ax.set_xlabel('Force')\n",
    "ax.set_ylabel('Wear')"
   ]
  },
  {
   "cell_type": "markdown",
   "metadata": {},
   "source": [
    "From our data it is not clear if there is a trend, now lets analyse the data with a OLS model to see if there is a trend when we have accounted for the effects of humidity. We will include both linear and quadratic terms for humidity just in case the trend is non linear"
   ]
  },
  {
   "cell_type": "code",
   "execution_count": 52,
   "metadata": {},
   "outputs": [
    {
     "name": "stdout",
     "output_type": "stream",
     "text": [
      "                            OLS Regression Results                            \n",
      "==============================================================================\n",
      "Dep. Variable:                   wear   R-squared:                       0.929\n",
      "Model:                            OLS   Adj. R-squared:                  0.924\n",
      "Method:                 Least Squares   F-statistic:                     158.2\n",
      "Date:                Thu, 05 Mar 2020   Prob (F-statistic):           8.77e-21\n",
      "Time:                        15:23:13   Log-Likelihood:                -28.238\n",
      "No. Observations:                  40   AIC:                             64.48\n",
      "Df Residuals:                      36   BIC:                             71.23\n",
      "Df Model:                           3                                         \n",
      "Covariance Type:            nonrobust                                         \n",
      "=========================================================================================\n",
      "                            coef    std err          t      P>|t|      [0.025      0.975]\n",
      "-----------------------------------------------------------------------------------------\n",
      "Intercept                 0.0173      0.971      0.018      0.986      -1.952       1.986\n",
      "force                     0.2940      0.032      9.195      0.000       0.229       0.359\n",
      "humidity                 14.5911      4.227      3.452      0.001       6.018      23.164\n",
      "np.power(humidity, 2)    -5.7359      4.257     -1.347      0.186     -14.370       2.898\n",
      "==============================================================================\n",
      "Omnibus:                        1.343   Durbin-Watson:                   2.216\n",
      "Prob(Omnibus):                  0.511   Jarque-Bera (JB):                1.294\n",
      "Skew:                          -0.397   Prob(JB):                        0.524\n",
      "Kurtosis:                       2.619   Cond. No.                         460.\n",
      "==============================================================================\n",
      "\n",
      "Warnings:\n",
      "[1] Standard Errors assume that the covariance matrix of the errors is correctly specified.\n"
     ]
    }
   ],
   "source": [
    "model = smf.ols('wear ~ force + humidity + np.power(humidity,2)', data=data)\n",
    "results = model.fit()\n",
    "print(results.summary())"
   ]
  },
  {
   "cell_type": "code",
   "execution_count": 54,
   "metadata": {},
   "outputs": [
    {
     "data": {
      "image/png": "[encoded data removed]",
      "text/plain": [
       "<Figure size 432x288 with 1 Axes>"
      ]
     },
     "metadata": {
      "needs_background": "light"
     },
     "output_type": "display_data"
    },
    {
     "data": {
      "image/png": "[encoded data removed]",
      "text/plain": [
       "<Figure size 432x288 with 1 Axes>"
      ]
     },
     "metadata": {
      "needs_background": "light"
     },
     "output_type": "display_data"
    }
   ],
   "source": [
    "x = data['wear']\n",
    "y = results.predict(data['force'])\n",
    "plt.scatter(x, y)\n",
    "plt.plot([min(x),max(x)],[min(x),max(x)])\n",
    "ax = plt.gca()\n",
    "ax.set_xlabel('Actual values')\n",
    "ax.set_ylabel('predicted values')\n",
    "ax = qqplot(results.resid)"
   ]
  },
  {
   "cell_type": "markdown",
   "metadata": {},
   "source": [
    "We can see from the summary table that our trend with fores and humidity are both strongly significant. We can also see that our model fits the data well from the $R^2$ value and the predictions vs actual data plots, Lastly we have checked that our models are normally distributed by using a QQ plot."
   ]
  },
  {
   "cell_type": "markdown",
   "metadata": {},
   "source": [
    "# Summary\n",
    "We have shown the power of linear models for hypothesis testing and dealing with possible confounding effects. However there are some caveats to this, we need to check that our results fit the assumptions we have built into the model. We should also be aware of times that $R^2$ can be missleading. There is another notebook on this topic."
   ]
  }
 ],
 "metadata": {
  "kernelspec": {
   "display_name": "Python 3",
   "language": "python",
   "name": "python3"
  },
  "language_info": {
   "codemirror_mode": {
    "name": "ipython",
    "version": 3
   },
   "file_extension": ".py",
   "mimetype": "text/x-python",
   "name": "python",
   "nbconvert_exporter": "python",
   "pygments_lexer": "ipython3",
   "version": "3.6.7"
  }
 },
 "nbformat": 4,
 "nbformat_minor": 4
}
