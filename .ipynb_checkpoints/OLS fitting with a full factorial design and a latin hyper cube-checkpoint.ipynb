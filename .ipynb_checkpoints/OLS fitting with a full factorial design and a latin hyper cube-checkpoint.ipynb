{
 "cells": [
  {
   "attachments": {
    "image.png": {
     "image/png": "[encoded data removed]"
    }
   },
   "cell_type": "markdown",
   "metadata": {},
   "source": [
    "# OLS fitting example\n",
    "In this notebook we will fit an Ordinary Least Squares model to some dummy data.\n",
    "\n",
    "This model will find coefficients ($a$) for our hypothesised equation which minimise, $\\epsilon$, the least squares error between the model and the data:\n",
    "$$Data = a_1MT_1 + a_2MT_2 + a_3MT_3 ..... + \\epsilon $$\n",
    "\n",
    "For an ordinary least square model we assume that this error term is normally distributed with a mean of 0, we will check this assumption later on.\n",
    "\n",
    "---\n",
    "First lets generate some dummy data using a full factorial design with 2 levels for each factor. If we have 5 factors this means we are going to need to run $32\\ (2^5)$ repeats.\n",
    "\n",
    "![image.png](attachment:image.png)"
   ]
  },
  {
   "cell_type": "code",
   "execution_count": 8,
   "metadata": {},
   "outputs": [],
   "source": [
    "# These are python packages we will use to make life easier\n",
    "import statsmodels.api as sm\n",
    "import statsmodels.formula.api as smf\n",
    "import statsmodels.graphics as smg\n",
    "import numpy as np\n",
    "import pandas as pd\n",
    "import pyDOE2 as doe\n",
    "import seaborn as sns\n",
    "from IPython.display import display\n",
    "\n",
    "def fill_in_design(design):\n",
    "    data = pd.DataFrame()\n",
    "    data['temperature'] = design[:,0]*5+20\n",
    "    data['force'] = design[:,1]*90+10\n",
    "    data['humidity'] = design[:,2]\n",
    "    data['lubricant'] = design[:,3] + 1\n",
    "    data['hardness'] = design[:,4]*20+5\n",
    "    data['friction'] = 10.5*(0.5*data['force'] + \n",
    "                        -0.5*data['temperature'] + \n",
    "                        20*(data['humidity']**2 - data['humidity']) +\n",
    "                        -0.1 * np.log(data['lubricant']*1000)) + 10*np.random.randn(len(design))\n",
    "    data['friciton'] = 0.2 + 0.8*(data['friciton']-np.min(data['friciton'])/\n",
    "                                  (np.max(data['friciton'])-np.min(data['friciton'])))\n",
    "    return data"
   ]
  },
  {
   "cell_type": "markdown",
   "metadata": {},
   "source": [
    "# The experimental design"
   ]
  },
  {
   "cell_type": "code",
   "execution_count": 9,
   "metadata": {},
   "outputs": [
    {
     "name": "stdout",
     "output_type": "stream",
     "text": [
      "[[0. 0. 0. 0. 0.]\n",
      " [1. 0. 0. 0. 0.]\n",
      " [0. 1. 0. 0. 0.]\n",
      " [1. 1. 0. 0. 0.]\n",
      " [0. 0. 1. 0. 0.]\n",
      " [1. 0. 1. 0. 0.]\n",
      " [0. 1. 1. 0. 0.]\n",
      " [1. 1. 1. 0. 0.]\n",
      " [0. 0. 0. 1. 0.]\n",
      " [1. 0. 0. 1. 0.]\n",
      " [0. 1. 0. 1. 0.]\n",
      " [1. 1. 0. 1. 0.]\n",
      " [0. 0. 1. 1. 0.]\n",
      " [1. 0. 1. 1. 0.]\n",
      " [0. 1. 1. 1. 0.]\n",
      " [1. 1. 1. 1. 0.]\n",
      " [0. 0. 0. 0. 1.]\n",
      " [1. 0. 0. 0. 1.]\n",
      " [0. 1. 0. 0. 1.]\n",
      " [1. 1. 0. 0. 1.]\n",
      " [0. 0. 1. 0. 1.]\n",
      " [1. 0. 1. 0. 1.]\n",
      " [0. 1. 1. 0. 1.]\n",
      " [1. 1. 1. 0. 1.]\n",
      " [0. 0. 0. 1. 1.]\n",
      " [1. 0. 0. 1. 1.]\n",
      " [0. 1. 0. 1. 1.]\n",
      " [1. 1. 0. 1. 1.]\n",
      " [0. 0. 1. 1. 1.]\n",
      " [1. 0. 1. 1. 1.]\n",
      " [0. 1. 1. 1. 1.]\n",
      " [1. 1. 1. 1. 1.]] \n",
      " 32\n"
     ]
    }
   ],
   "source": [
    "design = doe.fullfact([2]*5)\n",
    "print(design, '\\n', len(design))"
   ]
  },
  {
   "cell_type": "markdown",
   "metadata": {},
   "source": [
    "# The results table\n",
    "We will use this design to fill in some dummy data for the results"
   ]
  },
  {
   "cell_type": "code",
   "execution_count": 10,
   "metadata": {},
   "outputs": [
    {
     "data": {
      "text/html": [
       "<div>\n",
       "<style scoped>\n",
       "    .dataframe tbody tr th:only-of-type {\n",
       "        vertical-align: middle;\n",
       "    }\n",
       "\n",
       "    .dataframe tbody tr th {\n",
       "        vertical-align: top;\n",
       "    }\n",
       "\n",
       "    .dataframe thead th {\n",
       "        text-align: right;\n",
       "    }\n",
       "</style>\n",
       "<table border=\"1\" class=\"dataframe\">\n",
       "  <thead>\n",
       "    <tr style=\"text-align: right;\">\n",
       "      <th></th>\n",
       "      <th>temperature</th>\n",
       "      <th>force</th>\n",
       "      <th>humidity</th>\n",
       "      <th>lubricant</th>\n",
       "      <th>hardness</th>\n",
       "      <th>friction</th>\n",
       "    </tr>\n",
       "  </thead>\n",
       "  <tbody>\n",
       "    <tr>\n",
       "      <th>0</th>\n",
       "      <td>20.0</td>\n",
       "      <td>10.0</td>\n",
       "      <td>0.0</td>\n",
       "      <td>1.0</td>\n",
       "      <td>5.0</td>\n",
       "      <td>-45.555578</td>\n",
       "    </tr>\n",
       "    <tr>\n",
       "      <th>1</th>\n",
       "      <td>25.0</td>\n",
       "      <td>10.0</td>\n",
       "      <td>0.0</td>\n",
       "      <td>1.0</td>\n",
       "      <td>5.0</td>\n",
       "      <td>-90.609241</td>\n",
       "    </tr>\n",
       "    <tr>\n",
       "      <th>2</th>\n",
       "      <td>20.0</td>\n",
       "      <td>100.0</td>\n",
       "      <td>0.0</td>\n",
       "      <td>1.0</td>\n",
       "      <td>5.0</td>\n",
       "      <td>402.452666</td>\n",
       "    </tr>\n",
       "    <tr>\n",
       "      <th>3</th>\n",
       "      <td>25.0</td>\n",
       "      <td>100.0</td>\n",
       "      <td>0.0</td>\n",
       "      <td>1.0</td>\n",
       "      <td>5.0</td>\n",
       "      <td>393.804708</td>\n",
       "    </tr>\n",
       "    <tr>\n",
       "      <th>4</th>\n",
       "      <td>20.0</td>\n",
       "      <td>10.0</td>\n",
       "      <td>1.0</td>\n",
       "      <td>1.0</td>\n",
       "      <td>5.0</td>\n",
       "      <td>-58.639924</td>\n",
       "    </tr>\n",
       "    <tr>\n",
       "      <th>5</th>\n",
       "      <td>25.0</td>\n",
       "      <td>10.0</td>\n",
       "      <td>1.0</td>\n",
       "      <td>1.0</td>\n",
       "      <td>5.0</td>\n",
       "      <td>-83.001323</td>\n",
       "    </tr>\n",
       "    <tr>\n",
       "      <th>6</th>\n",
       "      <td>20.0</td>\n",
       "      <td>100.0</td>\n",
       "      <td>1.0</td>\n",
       "      <td>1.0</td>\n",
       "      <td>5.0</td>\n",
       "      <td>406.749849</td>\n",
       "    </tr>\n",
       "    <tr>\n",
       "      <th>7</th>\n",
       "      <td>25.0</td>\n",
       "      <td>100.0</td>\n",
       "      <td>1.0</td>\n",
       "      <td>1.0</td>\n",
       "      <td>5.0</td>\n",
       "      <td>391.653932</td>\n",
       "    </tr>\n",
       "    <tr>\n",
       "      <th>8</th>\n",
       "      <td>20.0</td>\n",
       "      <td>10.0</td>\n",
       "      <td>0.0</td>\n",
       "      <td>2.0</td>\n",
       "      <td>5.0</td>\n",
       "      <td>-68.329650</td>\n",
       "    </tr>\n",
       "    <tr>\n",
       "      <th>9</th>\n",
       "      <td>25.0</td>\n",
       "      <td>10.0</td>\n",
       "      <td>0.0</td>\n",
       "      <td>2.0</td>\n",
       "      <td>5.0</td>\n",
       "      <td>-81.619453</td>\n",
       "    </tr>\n",
       "    <tr>\n",
       "      <th>10</th>\n",
       "      <td>20.0</td>\n",
       "      <td>100.0</td>\n",
       "      <td>0.0</td>\n",
       "      <td>2.0</td>\n",
       "      <td>5.0</td>\n",
       "      <td>428.014205</td>\n",
       "    </tr>\n",
       "    <tr>\n",
       "      <th>11</th>\n",
       "      <td>25.0</td>\n",
       "      <td>100.0</td>\n",
       "      <td>0.0</td>\n",
       "      <td>2.0</td>\n",
       "      <td>5.0</td>\n",
       "      <td>391.151583</td>\n",
       "    </tr>\n",
       "    <tr>\n",
       "      <th>12</th>\n",
       "      <td>20.0</td>\n",
       "      <td>10.0</td>\n",
       "      <td>1.0</td>\n",
       "      <td>2.0</td>\n",
       "      <td>5.0</td>\n",
       "      <td>-57.095871</td>\n",
       "    </tr>\n",
       "    <tr>\n",
       "      <th>13</th>\n",
       "      <td>25.0</td>\n",
       "      <td>10.0</td>\n",
       "      <td>1.0</td>\n",
       "      <td>2.0</td>\n",
       "      <td>5.0</td>\n",
       "      <td>-91.993077</td>\n",
       "    </tr>\n",
       "    <tr>\n",
       "      <th>14</th>\n",
       "      <td>20.0</td>\n",
       "      <td>100.0</td>\n",
       "      <td>1.0</td>\n",
       "      <td>2.0</td>\n",
       "      <td>5.0</td>\n",
       "      <td>420.213564</td>\n",
       "    </tr>\n",
       "    <tr>\n",
       "      <th>15</th>\n",
       "      <td>25.0</td>\n",
       "      <td>100.0</td>\n",
       "      <td>1.0</td>\n",
       "      <td>2.0</td>\n",
       "      <td>5.0</td>\n",
       "      <td>401.040248</td>\n",
       "    </tr>\n",
       "    <tr>\n",
       "      <th>16</th>\n",
       "      <td>20.0</td>\n",
       "      <td>10.0</td>\n",
       "      <td>0.0</td>\n",
       "      <td>1.0</td>\n",
       "      <td>25.0</td>\n",
       "      <td>-56.529077</td>\n",
       "    </tr>\n",
       "    <tr>\n",
       "      <th>17</th>\n",
       "      <td>25.0</td>\n",
       "      <td>10.0</td>\n",
       "      <td>0.0</td>\n",
       "      <td>1.0</td>\n",
       "      <td>25.0</td>\n",
       "      <td>-97.289525</td>\n",
       "    </tr>\n",
       "    <tr>\n",
       "      <th>18</th>\n",
       "      <td>20.0</td>\n",
       "      <td>100.0</td>\n",
       "      <td>0.0</td>\n",
       "      <td>1.0</td>\n",
       "      <td>25.0</td>\n",
       "      <td>415.383661</td>\n",
       "    </tr>\n",
       "    <tr>\n",
       "      <th>19</th>\n",
       "      <td>25.0</td>\n",
       "      <td>100.0</td>\n",
       "      <td>0.0</td>\n",
       "      <td>1.0</td>\n",
       "      <td>25.0</td>\n",
       "      <td>379.847409</td>\n",
       "    </tr>\n",
       "    <tr>\n",
       "      <th>20</th>\n",
       "      <td>20.0</td>\n",
       "      <td>10.0</td>\n",
       "      <td>1.0</td>\n",
       "      <td>1.0</td>\n",
       "      <td>25.0</td>\n",
       "      <td>-61.695216</td>\n",
       "    </tr>\n",
       "    <tr>\n",
       "      <th>21</th>\n",
       "      <td>25.0</td>\n",
       "      <td>10.0</td>\n",
       "      <td>1.0</td>\n",
       "      <td>1.0</td>\n",
       "      <td>25.0</td>\n",
       "      <td>-74.910153</td>\n",
       "    </tr>\n",
       "    <tr>\n",
       "      <th>22</th>\n",
       "      <td>20.0</td>\n",
       "      <td>100.0</td>\n",
       "      <td>1.0</td>\n",
       "      <td>1.0</td>\n",
       "      <td>25.0</td>\n",
       "      <td>408.438969</td>\n",
       "    </tr>\n",
       "    <tr>\n",
       "      <th>23</th>\n",
       "      <td>25.0</td>\n",
       "      <td>100.0</td>\n",
       "      <td>1.0</td>\n",
       "      <td>1.0</td>\n",
       "      <td>25.0</td>\n",
       "      <td>383.862504</td>\n",
       "    </tr>\n",
       "    <tr>\n",
       "      <th>24</th>\n",
       "      <td>20.0</td>\n",
       "      <td>10.0</td>\n",
       "      <td>0.0</td>\n",
       "      <td>2.0</td>\n",
       "      <td>25.0</td>\n",
       "      <td>-54.904960</td>\n",
       "    </tr>\n",
       "    <tr>\n",
       "      <th>25</th>\n",
       "      <td>25.0</td>\n",
       "      <td>10.0</td>\n",
       "      <td>0.0</td>\n",
       "      <td>2.0</td>\n",
       "      <td>25.0</td>\n",
       "      <td>-75.443051</td>\n",
       "    </tr>\n",
       "    <tr>\n",
       "      <th>26</th>\n",
       "      <td>20.0</td>\n",
       "      <td>100.0</td>\n",
       "      <td>0.0</td>\n",
       "      <td>2.0</td>\n",
       "      <td>25.0</td>\n",
       "      <td>409.857045</td>\n",
       "    </tr>\n",
       "    <tr>\n",
       "      <th>27</th>\n",
       "      <td>25.0</td>\n",
       "      <td>100.0</td>\n",
       "      <td>0.0</td>\n",
       "      <td>2.0</td>\n",
       "      <td>25.0</td>\n",
       "      <td>380.812863</td>\n",
       "    </tr>\n",
       "    <tr>\n",
       "      <th>28</th>\n",
       "      <td>20.0</td>\n",
       "      <td>10.0</td>\n",
       "      <td>1.0</td>\n",
       "      <td>2.0</td>\n",
       "      <td>25.0</td>\n",
       "      <td>-74.994300</td>\n",
       "    </tr>\n",
       "    <tr>\n",
       "      <th>29</th>\n",
       "      <td>25.0</td>\n",
       "      <td>10.0</td>\n",
       "      <td>1.0</td>\n",
       "      <td>2.0</td>\n",
       "      <td>25.0</td>\n",
       "      <td>-94.695358</td>\n",
       "    </tr>\n",
       "    <tr>\n",
       "      <th>30</th>\n",
       "      <td>20.0</td>\n",
       "      <td>100.0</td>\n",
       "      <td>1.0</td>\n",
       "      <td>2.0</td>\n",
       "      <td>25.0</td>\n",
       "      <td>408.662484</td>\n",
       "    </tr>\n",
       "    <tr>\n",
       "      <th>31</th>\n",
       "      <td>25.0</td>\n",
       "      <td>100.0</td>\n",
       "      <td>1.0</td>\n",
       "      <td>2.0</td>\n",
       "      <td>25.0</td>\n",
       "      <td>374.834085</td>\n",
       "    </tr>\n",
       "  </tbody>\n",
       "</table>\n",
       "</div>"
      ],
      "text/plain": [
       "    temperature  force  humidity  lubricant  hardness    friction\n",
       "0          20.0   10.0       0.0        1.0       5.0  -45.555578\n",
       "1          25.0   10.0       0.0        1.0       5.0  -90.609241\n",
       "2          20.0  100.0       0.0        1.0       5.0  402.452666\n",
       "3          25.0  100.0       0.0        1.0       5.0  393.804708\n",
       "4          20.0   10.0       1.0        1.0       5.0  -58.639924\n",
       "5          25.0   10.0       1.0        1.0       5.0  -83.001323\n",
       "6          20.0  100.0       1.0        1.0       5.0  406.749849\n",
       "7          25.0  100.0       1.0        1.0       5.0  391.653932\n",
       "8          20.0   10.0       0.0        2.0       5.0  -68.329650\n",
       "9          25.0   10.0       0.0        2.0       5.0  -81.619453\n",
       "10         20.0  100.0       0.0        2.0       5.0  428.014205\n",
       "11         25.0  100.0       0.0        2.0       5.0  391.151583\n",
       "12         20.0   10.0       1.0        2.0       5.0  -57.095871\n",
       "13         25.0   10.0       1.0        2.0       5.0  -91.993077\n",
       "14         20.0  100.0       1.0        2.0       5.0  420.213564\n",
       "15         25.0  100.0       1.0        2.0       5.0  401.040248\n",
       "16         20.0   10.0       0.0        1.0      25.0  -56.529077\n",
       "17         25.0   10.0       0.0        1.0      25.0  -97.289525\n",
       "18         20.0  100.0       0.0        1.0      25.0  415.383661\n",
       "19         25.0  100.0       0.0        1.0      25.0  379.847409\n",
       "20         20.0   10.0       1.0        1.0      25.0  -61.695216\n",
       "21         25.0   10.0       1.0        1.0      25.0  -74.910153\n",
       "22         20.0  100.0       1.0        1.0      25.0  408.438969\n",
       "23         25.0  100.0       1.0        1.0      25.0  383.862504\n",
       "24         20.0   10.0       0.0        2.0      25.0  -54.904960\n",
       "25         25.0   10.0       0.0        2.0      25.0  -75.443051\n",
       "26         20.0  100.0       0.0        2.0      25.0  409.857045\n",
       "27         25.0  100.0       0.0        2.0      25.0  380.812863\n",
       "28         20.0   10.0       1.0        2.0      25.0  -74.994300\n",
       "29         25.0   10.0       1.0        2.0      25.0  -94.695358\n",
       "30         20.0  100.0       1.0        2.0      25.0  408.662484\n",
       "31         25.0  100.0       1.0        2.0      25.0  374.834085"
      ]
     },
     "metadata": {},
     "output_type": "display_data"
    }
   ],
   "source": [
    "data = fill_in_design(design)\n",
    "display(data)"
   ]
  },
  {
   "cell_type": "markdown",
   "metadata": {},
   "source": [
    "# Plotting the results\n",
    "The first thing to do is plot the result, this will immediately show you if there are any crazy things going on, don't just blindly trust the data!"
   ]
  },
  {
   "cell_type": "code",
   "execution_count": 5,
   "metadata": {},
   "outputs": [
    {
     "data": {
      "text/plain": [
       "<seaborn.axisgrid.PairGrid at 0x18f6e73cf98>"
      ]
     },
     "execution_count": 5,
     "metadata": {},
     "output_type": "execute_result"
    },
    {
     "data": {
      "image/png": "[encoded data removed]",
      "text/plain": [
       "<Figure size 900x180 with 5 Axes>"
      ]
     },
     "metadata": {
      "needs_background": "light"
     },
     "output_type": "display_data"
    }
   ],
   "source": [
    "sns.pairplot(data, y_vars=\"friction\", x_vars=data.columns.values[:-1], kind='reg')"
   ]
  },
  {
   "cell_type": "markdown",
   "metadata": {},
   "source": [
    "# Modelling the data"
   ]
  },
  {
   "cell_type": "code",
   "execution_count": 6,
   "metadata": {},
   "outputs": [
    {
     "name": "stdout",
     "output_type": "stream",
     "text": [
      "                            OLS Regression Results                            \n",
      "==============================================================================\n",
      "Dep. Variable:               friction   R-squared:                       0.999\n",
      "Model:                            OLS   Adj. R-squared:                  0.999\n",
      "Method:                 Least Squares   F-statistic:                     8996.\n",
      "Date:                Thu, 27 Feb 2020   Prob (F-statistic):           3.23e-41\n",
      "Time:                        17:54:56   Log-Likelihood:                -100.77\n",
      "No. Observations:                  32   AIC:                             213.5\n",
      "Df Residuals:                      26   BIC:                             222.3\n",
      "Df Model:                           5                                         \n",
      "Covariance Type:            nonrobust                                         \n",
      "===============================================================================\n",
      "                  coef    std err          t      P>|t|      [0.025      0.975]\n",
      "-------------------------------------------------------------------------------\n",
      "Intercept     -12.8965     10.826     -1.191      0.244     -35.150       9.356\n",
      "force           5.2141      0.025    212.074      0.000       5.164       5.265\n",
      "temperature    -0.6780      0.443     -1.532      0.138      -1.588       0.232\n",
      "humidity       -1.6170      2.213     -0.731      0.471      -6.165       2.931\n",
      "lubricant      -1.1743      2.213     -0.531      0.600      -5.723       3.374\n",
      "hardness        0.0026      0.111      0.023      0.982      -0.225       0.230\n",
      "==============================================================================\n",
      "Omnibus:                        4.734   Durbin-Watson:                   2.088\n",
      "Prob(Omnibus):                  0.094   Jarque-Bera (JB):                3.224\n",
      "Skew:                          -0.715   Prob(JB):                        0.199\n",
      "Kurtosis:                       3.609   Cond. No.                         729.\n",
      "==============================================================================\n",
      "\n",
      "Warnings:\n",
      "[1] Standard Errors assume that the covariance matrix of the errors is correctly specified.\n"
     ]
    }
   ],
   "source": [
    "model = smf.ols(formula='friction ~ force + temperature + humidity + lubricant + hardness', \n",
    "                data=data)\n",
    "results = model.fit()\n",
    "print(results.summary())"
   ]
  },
  {
   "cell_type": "code",
   "execution_count": 7,
   "metadata": {},
   "outputs": [
    {
     "data": {
      "text/plain": [
       "Text(0, 0.5, 'Fitted values')"
      ]
     },
     "execution_count": 7,
     "metadata": {},
     "output_type": "execute_result"
    },
    {
     "data": {
      "image/png": "[encoded data removed]",
      "text/plain": [
       "<Figure size 432x288 with 1 Axes>"
      ]
     },
     "metadata": {
      "needs_background": "light"
     },
     "output_type": "display_data"
    }
   ],
   "source": [
    "preds = results.predict(data)\n",
    "ax = sns.scatterplot(data['friction'], preds)\n",
    "ax.set_xlabel('Actual values')\n",
    "ax.set_ylabel('Fitted values')"
   ]
  },
  {
   "cell_type": "code",
   "execution_count": null,
   "metadata": {},
   "outputs": [],
   "source": [
    "ax = smg.gofplots.qqplot(results.resid)"
   ]
  },
  {
   "cell_type": "markdown",
   "metadata": {},
   "source": [
    "# Drawbacks\n",
    "- Little can be learnt about the system despite doing a lot of experiments\n",
    "- Many experiments are wasted if they cover factors that are not important\n",
    "- Every factor added at least doubles the number of experiments!\n",
    "- For a 2 level factor a linear model will always fit, no matter what the undelying function is"
   ]
  },
  {
   "cell_type": "markdown",
   "metadata": {},
   "source": [
    "# Trying again with a latin hyper cube design\n"
   ]
  },
  {
   "cell_type": "code",
   "execution_count": null,
   "metadata": {},
   "outputs": [],
   "source": [
    "doe.lhs(5, 32)"
   ]
  },
  {
   "cell_type": "markdown",
   "metadata": {},
   "source": [
    "# The results table\n",
    "We will use this design to fill in some dummy data for the results"
   ]
  },
  {
   "cell_type": "code",
   "execution_count": null,
   "metadata": {},
   "outputs": [],
   "source": [
    "data = fill_in_design(doe.lhs(5, 32))\n",
    "display(data)"
   ]
  },
  {
   "cell_type": "markdown",
   "metadata": {},
   "source": [
    "# Plotting the results\n",
    "The first thing to do is plot the result, this will immediately show you if there are any crazy things going on, don't just blindly trust the data!"
   ]
  },
  {
   "cell_type": "code",
   "execution_count": null,
   "metadata": {},
   "outputs": [],
   "source": [
    "sns.pairplot(data, y_vars=\"friction\", x_vars=data.columns.values[:-1], kind='reg')"
   ]
  },
  {
   "cell_type": "markdown",
   "metadata": {},
   "source": [
    "# Modelling the data"
   ]
  },
  {
   "cell_type": "code",
   "execution_count": null,
   "metadata": {},
   "outputs": [],
   "source": [
    "model = smf.ols(formula='friction ~ force + temperature + humidity + lubricant + hardness', \n",
    "                data=data)\n",
    "results = model.fit()\n",
    "print(results.summary())"
   ]
  },
  {
   "cell_type": "code",
   "execution_count": null,
   "metadata": {},
   "outputs": [],
   "source": [
    "preds = results.predict(data)\n",
    "ax = sns.scatterplot(data['friction'], preds)\n",
    "ax.set_xlabel('Actual values')\n",
    "ax.set_ylabel('Fitted values')"
   ]
  },
  {
   "cell_type": "code",
   "execution_count": null,
   "metadata": {},
   "outputs": [],
   "source": [
    "ax = smg.gofplots.qqplot(results.resid)"
   ]
  },
  {
   "cell_type": "code",
   "execution_count": null,
   "metadata": {},
   "outputs": [],
   "source": [
    "ax = smg.regressionplots.plot_regress_exog(results, 'humidity')"
   ]
  },
  {
   "cell_type": "code",
   "execution_count": null,
   "metadata": {},
   "outputs": [],
   "source": [
    "model = smf.ols(formula='friction ~ force + temperature + np.power(humidity,2) + humidity + lubricant + hardness', \n",
    "                data=data)\n",
    "results = model.fit()\n",
    "print(results.summary())"
   ]
  },
  {
   "cell_type": "code",
   "execution_count": null,
   "metadata": {},
   "outputs": [],
   "source": [
    "preds = results.predict(data)\n",
    "ax = sns.scatterplot(data['friction'], preds)\n",
    "ax.set_xlabel('Actual values')\n",
    "ax.set_ylabel('Fitted values')"
   ]
  },
  {
   "cell_type": "code",
   "execution_count": null,
   "metadata": {},
   "outputs": [],
   "source": [
    "ax = smg.gofplots.qqplot(results.resid)"
   ]
  },
  {
   "cell_type": "markdown",
   "metadata": {},
   "source": [
    "# Advantages / disadvantages\n",
    "Pros\n",
    "- More information can be gained from an unknown system\n",
    "- Non linear behavious can be investigated more easily\n",
    "- Adding factors doesn't necessarily make the experiment bigger\\*\n",
    "\n",
    "Cons\n",
    "- Results must be analysed statistically\n",
    "- Results can be difficult to interpret\n",
    "- Lots of chance to fool yourself with fitting\n",
    "- Effective number of comparisons can be huge, bad for hypothesis testing!"
   ]
  },
  {
   "cell_type": "code",
   "execution_count": null,
   "metadata": {},
   "outputs": [],
   "source": []
  }
 ],
 "metadata": {
  "kernelspec": {
   "display_name": "Python 3",
   "language": "python",
   "name": "python3"
  },
  "language_info": {
   "codemirror_mode": {
    "name": "ipython",
    "version": 3
   },
   "file_extension": ".py",
   "mimetype": "text/x-python",
   "name": "python",
   "nbconvert_exporter": "python",
   "pygments_lexer": "ipython3",
   "version": "3.6.7"
  }
 },
 "nbformat": 4,
 "nbformat_minor": 2
}
