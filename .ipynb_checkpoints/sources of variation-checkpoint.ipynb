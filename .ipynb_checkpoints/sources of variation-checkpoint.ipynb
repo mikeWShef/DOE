{
 "cells": [
  {
   "cell_type": "markdown",
   "metadata": {},
   "source": [
    "# Sources of variation"
   ]
  },
  {
   "cell_type": "code",
   "execution_count": 80,
   "metadata": {},
   "outputs": [],
   "source": [
    "import numpy as np\n",
    "import scipy.stats as stats\n",
    "import seaborn as sns\n",
    "import matplotlib.pyplot as plt\n",
    "import scipy.interpolate as interpolate\n",
    "colors = ('#00876c', '#3d9a70', '#64ad73', '#89bf77', '#afd17c', \n",
    "          '#d6e184', '#fff18f', '#fdd576', '#fbb862', '#f59b56', \n",
    "          '#ee7d4f', '#e35e4e', '#d43d51')"
   ]
  },
  {
   "cell_type": "code",
   "execution_count": 21,
   "metadata": {},
   "outputs": [],
   "source": [
    "def plot_dist(dist, color=None):\n",
    "    plt.plot(dist, c=color)\n",
    "    plt.fill_between(range(len(dist)), [0]*len(dist), dist, color=color)\n",
    "    ax = plt.gca()\n",
    "    ax.axis('off')"
   ]
  },
  {
   "cell_type": "code",
   "execution_count": 54,
   "metadata": {},
   "outputs": [],
   "source": [
    "dist_list = [stats.binom(5,0.4).pmf(np.linspace(-1,5,121)),\n",
    "             stats.norm.pdf(np.linspace(-10,10,100)),\n",
    "             stats.pearson3.pdf(np.linspace(-10,10,100), 0.5),\n",
    "             stats.gamma.pdf(np.linspace(-10,10,100), 1.99),\n",
    "             stats.alpha.pdf(np.linspace(-2,2,100), 3.57),\n",
    "             stats.burr.pdf(np.linspace(4,-2,100), 10.5,4.3),\n",
    "             stats.gennorm.pdf(np.linspace(4,-4,100), 1.3),\n",
    "             stats.lognorm.pdf(np.linspace(0,4,100), 0.4),\n",
    "             stats.norm.pdf(np.linspace(-20,20,100)),\n",
    "             stats.norm.pdf(np.linspace(-15,21,100)),\n",
    "             stats.norm.pdf(np.linspace(-10,15,100)),\n",
    "            stats.norm.pdf(np.linspace(-30,40,100)),\n",
    "            stats.norm.pdf(np.linspace(-30,30,100))]"
   ]
  },
  {
   "cell_type": "markdown",
   "metadata": {},
   "source": [
    "# adding sources of variation\n",
    "Note that adding two random variables is equvalent to convolving their PDFs, here the PDFs are stored numerically as above."
   ]
  },
  {
   "cell_type": "code",
   "execution_count": 78,
   "metadata": {},
   "outputs": [],
   "source": [
    "def central_limit(dist_list):\n",
    "    global_dist = np.array([1.0], dtype = float)\n",
    "    total_len = 1*100*len(dist_list)\n",
    "    i = 0\n",
    "    for dist in dist_list:\n",
    "        plot_dist(dist, colors[i])\n",
    "        plt.gcf().savefig(f'dist{i}.png', dpi = 300)\n",
    "        plt.cla()\n",
    "        global_dist = np.convolve(global_dist, dist)\n",
    "        plot_dist(np.pad(global_dist, [total_len-len(global_dist)//2]*2, constant_values=0)[1150:-1150], \n",
    "                  colors[i])\n",
    "        plt.gcf().savefig(f'total_dist{i}.png', dpi = 300)\n",
    "        plt.cla()\n",
    "        i += 1"
   ]
  },
  {
   "cell_type": "code",
   "execution_count": 79,
   "metadata": {},
   "outputs": [
    {
     "data": {
      "image/png": "[encoded data removed]",
      "text/plain": [
       "<Figure size 432x288 with 1 Axes>"
      ]
     },
     "metadata": {
      "needs_background": "light"
     },
     "output_type": "display_data"
    }
   ],
   "source": [
    "central_limit(dist_list)"
   ]
  },
  {
   "cell_type": "markdown",
   "metadata": {},
   "source": [
    "# Illustration of the central limit theorem for growth rates\n",
    "This is more complicated to do for teh PDFs so we will just use monte carlo sampling through each of the distributions and multiply the random values by eachother plus some off set. This off set makes sure that they are more like growth rates than straight multiplications (none should be negative) "
   ]
  },
  {
   "cell_type": "code",
   "execution_count": 152,
   "metadata": {},
   "outputs": [],
   "source": [
    "dist_list = [stats.binom(5,0.4),\n",
    "             stats.norm(loc = 2, scale = 2),\n",
    "             stats.pearson3(0.5),\n",
    "             stats.gamma(1.99),\n",
    "             stats.alpha(3.57),\n",
    "             stats.burr(10.5,4.3),\n",
    "             stats.gennorm(1.3),\n",
    "             stats.norm(0.4),\n",
    "             stats.norm(5),\n",
    "             stats.norm(10),\n",
    "             stats.norm(2),\n",
    "             stats.norm(10),\n",
    "             stats.norm(10),\n",
    "             stats.norm(10)]"
   ]
  },
  {
   "cell_type": "code",
   "execution_count": 157,
   "metadata": {},
   "outputs": [],
   "source": [
    "def log_central_limit(dist_list, length = 100000):\n",
    "    dist = dist_list[0]\n",
    "    global_dist = dist.rvs(length)\n",
    "    i=0\n",
    "    for dist in dist_list[1:]:\n",
    "        mean = np.mean(global_dist)\n",
    "        std = np.std(global_dist)\n",
    "        dist_to_plot = global_dist[np.logical_and(global_dist>0, global_dist<mean+3*std)]\n",
    "        ax = sns.distplot(dist_to_plot,\n",
    "                          hist=False, color = colors[i], \n",
    "                          kde_kws={\"shade\": True})\n",
    "        ax.axis('off')\n",
    "        plt.gcf().savefig(f'total_log_dist{i}.png', dpi = 300)\n",
    "        plt.cla()\n",
    "        global_dist = global_dist*(2+dist.rvs(length))\n",
    "        i += 1"
   ]
  },
  {
   "cell_type": "code",
   "execution_count": 158,
   "metadata": {},
   "outputs": [
    {
     "data": {
      "image/png": "[encoded data removed]",
      "text/plain": [
       "<Figure size 432x288 with 1 Axes>"
      ]
     },
     "metadata": {
      "needs_background": "light"
     },
     "output_type": "display_data"
    }
   ],
   "source": [
    "log_central_limit(dist_list)"
   ]
  },
  {
   "cell_type": "code",
   "execution_count": 159,
   "metadata": {},
   "outputs": [],
   "source": [
    "dist_list = [stats.lognorm.pdf(np.linspace(0,4,100), 0.4)]*13"
   ]
  },
  {
   "cell_type": "code",
   "execution_count": 163,
   "metadata": {},
   "outputs": [],
   "source": [
    "def central_limit(dist_list):\n",
    "    global_dist = np.array([1.0], dtype = float)\n",
    "    total_len = 1*100*len(dist_list)\n",
    "    i = 0\n",
    "    for dist in dist_list:\n",
    "        #plot_dist(dist, colors[i])\n",
    "        #plt.gcf().savefig(f'dist{i}.png', dpi = 300)\n",
    "        #plt.cla()\n",
    "        global_dist = np.convolve(global_dist, dist)\n",
    "        plot_dist(np.pad(global_dist, [total_len-len(global_dist)//2]*2, constant_values=0), \n",
    "                  colors[i])\n",
    "        #plt.gcf().savefig(f'total_dist{i}.png', dpi = 300)\n",
    "        #plt.cla()\n",
    "        i += 1"
   ]
  },
  {
   "cell_type": "code",
   "execution_count": 164,
   "metadata": {},
   "outputs": [
    {
     "data": {
      "image/png": "[encoded data removed]",
      "text/plain": [
       "<Figure size 432x288 with 1 Axes>"
      ]
     },
     "metadata": {
      "needs_background": "light"
     },
     "output_type": "display_data"
    }
   ],
   "source": [
    "central_limit(dist_list)"
   ]
  },
  {
   "cell_type": "code",
   "execution_count": null,
   "metadata": {},
   "outputs": [],
   "source": []
  }
 ],
 "metadata": {
  "kernelspec": {
   "display_name": "Python 3",
   "language": "python",
   "name": "python3"
  },
  "language_info": {
   "codemirror_mode": {
    "name": "ipython",
    "version": 3
   },
   "file_extension": ".py",
   "mimetype": "text/x-python",
   "name": "python",
   "nbconvert_exporter": "python",
   "pygments_lexer": "ipython3",
   "version": "3.6.7"
  }
 },
 "nbformat": 4,
 "nbformat_minor": 4
}
