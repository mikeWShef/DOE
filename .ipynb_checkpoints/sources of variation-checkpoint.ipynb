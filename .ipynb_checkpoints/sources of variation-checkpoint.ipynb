{
 "cells": [
  {
   "cell_type": "markdown",
   "metadata": {},
   "source": [
    "# Sources of variation and the central limit theroem"
   ]
  },
  {
   "cell_type": "code",
   "execution_count": 80,
   "metadata": {},
   "outputs": [],
   "source": [
    "import numpy as np\n",
    "import scipy.stats as stats\n",
    "import seaborn as sns\n",
    "import matplotlib.pyplot as plt\n",
    "import scipy.interpolate as interpolate\n",
    "colors = ('#00876c', '#3d9a70', '#64ad73', '#89bf77', '#afd17c', \n",
    "          '#d6e184', '#fff18f', '#fdd576', '#fbb862', '#f59b56', \n",
    "          '#ee7d4f', '#e35e4e', '#d43d51')"
   ]
  },
  {
   "cell_type": "code",
   "execution_count": 21,
   "metadata": {},
   "outputs": [],
   "source": [
    "def plot_dist(dist, color=None):\n",
    "    plt.plot(dist, c=color)\n",
    "    plt.fill_between(range(len(dist)), [0]*len(dist), dist, color=color)\n",
    "    ax = plt.gca()\n",
    "    ax.axis('off')"
   ]
  },
  {
   "cell_type": "code",
   "execution_count": 54,
   "metadata": {},
   "outputs": [],
   "source": [
    "dist_list = [stats.binom(5,0.4).pmf(np.linspace(-1,5,121)),\n",
    "             stats.norm.pdf(np.linspace(-10,10,100)),\n",
    "             stats.pearson3.pdf(np.linspace(-10,10,100), 0.5),\n",
    "             stats.gamma.pdf(np.linspace(-10,10,100), 1.99),\n",
    "             stats.alpha.pdf(np.linspace(-2,2,100), 3.57),\n",
    "             stats.burr.pdf(np.linspace(4,-2,100), 10.5,4.3),\n",
    "             stats.gennorm.pdf(np.linspace(4,-4,100), 1.3),\n",
    "             stats.lognorm.pdf(np.linspace(0,4,100), 0.4),\n",
    "             stats.norm.pdf(np.linspace(-20,20,100)),\n",
    "             stats.norm.pdf(np.linspace(-15,21,100)),\n",
    "             stats.norm.pdf(np.linspace(-10,15,100)),\n",
    "            stats.norm.pdf(np.linspace(-30,40,100)),\n",
    "            stats.norm.pdf(np.linspace(-30,30,100))]"
   ]
  },
  {
   "cell_type": "code",
   "execution_count": 78,
   "metadata": {},
   "outputs": [],
   "source": [
    "def central_limit(dist_list):\n",
    "    global_dist = np.array([1.0], dtype = float)\n",
    "    total_len = 1*100*len(dist_list)\n",
    "    i = 0\n",
    "    for dist in dist_list:\n",
    "        plot_dist(dist, colors[i])\n",
    "        plt.gcf().savefig(f'dist{i}.png', dpi = 300)\n",
    "        plt.cla()\n",
    "        global_dist = np.convolve(global_dist, dist)\n",
    "        plot_dist(np.pad(global_dist, [total_len-len(global_dist)//2]*2, constant_values=0)[1150:-1150], \n",
    "                  colors[i])\n",
    "        plt.gcf().savefig(f'total_dist{i}.png', dpi = 300)\n",
    "        plt.cla()\n",
    "        i += 1"
   ]
  },
  {
   "cell_type": "code",
   "execution_count": 79,
   "metadata": {},
   "outputs": [
    {
     "data": {
      "image/png": "[encoded data removed]",
      "text/plain": [
       "<Figure size 432x288 with 1 Axes>"
      ]
     },
     "metadata": {
      "needs_background": "light"
     },
     "output_type": "display_data"
    }
   ],
   "source": [
    "central_limit(dist_list)"
   ]
  },
  {
   "cell_type": "code",
   "execution_count": 94,
   "metadata": {},
   "outputs": [],
   "source": [
    "def product_dist(dist_1, dist_2):\n",
    "    pdf = np.zeros(len(dist_2)*3)\n",
    "    int_func = interpolate.interp1d(np.linspace(0,1,len(dist_2)), dist_2, \n",
    "                                    bounds_error=False, fill_value=0)\n",
    "    i = 0\n",
    "    for z in np.linspace(-1,2,len(dist_2)*3):\n",
    "        pdf[i] = np.sum([dist_1[x]*int_func(z/x)*1/x for x in range(1, len(dist_1))])\n",
    "        i+=1\n",
    "    return pdf"
   ]
  },
  {
   "cell_type": "code",
   "execution_count": 95,
   "metadata": {},
   "outputs": [],
   "source": [
    "def log_central_limit(dist_list):\n",
    "    global_dist = np.array([0, 1.0], dtype = float)\n",
    "    total_len = 1*100*len(dist_list)\n",
    "    i = 0\n",
    "    for dist in dist_list:\n",
    "        plot_dist(dist, colors[i])\n",
    "        plt.gcf().savefig(f'dist{i}.png', dpi = 300)\n",
    "        plt.cla()\n",
    "        global_dist = product_dist(global_dist, dist)\n",
    "        plot_dist(global_dist, colors[i])\n",
    "        plt.gcf().savefig(f'total_log_dist{i}.png', dpi = 300)\n",
    "        plt.cla()\n",
    "        i += 1"
   ]
  },
  {
   "cell_type": "code",
   "execution_count": 96,
   "metadata": {},
   "outputs": [
    {
     "data": {
      "image/png": "[encoded data removed]",
      "text/plain": [
       "<Figure size 432x288 with 1 Axes>"
      ]
     },
     "metadata": {
      "needs_background": "light"
     },
     "output_type": "display_data"
    }
   ],
   "source": [
    "log_central_limit(dist_list)"
   ]
  },
  {
   "cell_type": "code",
   "execution_count": null,
   "metadata": {},
   "outputs": [],
   "source": []
  }
 ],
 "metadata": {
  "kernelspec": {
   "display_name": "Python 3",
   "language": "python",
   "name": "python3"
  },
  "language_info": {
   "codemirror_mode": {
    "name": "ipython",
    "version": 3
   },
   "file_extension": ".py",
   "mimetype": "text/x-python",
   "name": "python",
   "nbconvert_exporter": "python",
   "pygments_lexer": "ipython3",
   "version": "3.6.7"
  }
 },
 "nbformat": 4,
 "nbformat_minor": 4
}
