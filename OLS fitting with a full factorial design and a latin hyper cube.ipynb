{
 "cells": [
  {
   "attachments": {
    "image.png": {
     "image/png": "[encoded data removed]"
    }
   },
   "cell_type": "markdown",
   "metadata": {},
   "source": [
    "# OLS fitting example\n",
    "In this notebook we will fit an Ordinary Least Squares model to some dummy data.\n",
    "\n",
    "This model will find coefficients ($a$) for our hypothesised equation which minimise, $\\epsilon$, the least squares error between the model and the data:\n",
    "$$Data = a_1MT_1 + a_2MT_2 + a_3MT_3 ..... + \\epsilon $$\n",
    "\n",
    "For an ordinary least square model we assume that this error term is normally distributed with a mean of 0, we will check this assumption later on.\n",
    "\n",
    "---\n",
    "First lets generate some dummy data using a full factorial design with 2 levels for each factor. If we have 5 factors this means we are going to need to run $32\\ (2^5)$ repeats.\n",
    "\n",
    "![image.png](attachment:image.png)"
   ]
  },
  {
   "cell_type": "code",
   "execution_count": 19,
   "metadata": {},
   "outputs": [],
   "source": [
    "# These are python packages we will use to make life easier\n",
    "import statsmodels.api as sm\n",
    "import statsmodels.formula.api as smf\n",
    "import statsmodels.graphics as smg\n",
    "import numpy as np\n",
    "import pandas as pd\n",
    "import pyDOE2 as doe\n",
    "import seaborn as sns\n",
    "from IPython.display import display\n",
    "import matplotlib.pyplot as plt\n",
    "\n",
    "def fill_in_design(design):\n",
    "    data = pd.DataFrame()\n",
    "    data['temperature'] = design[:,0]*5+20\n",
    "    data['force'] = design[:,1]*90+10\n",
    "    data['humidity'] = design[:,2]\n",
    "    data['lubricant'] = design[:,3] + 1\n",
    "    data['hardness'] = design[:,4]*20+5\n",
    "    data['friction'] = 10.5*(0.5*data['force'] + \n",
    "                        -0.5*data['temperature'] + \n",
    "                        20*(data['humidity']**2 - data['humidity']) +\n",
    "                        -0.1 * np.log(data['lubricant']*1000)) + 10*np.random.randn(len(design))\n",
    "    data_range = max(data['friction'])-min(data['friction'])\n",
    "    \n",
    "    data['friction'] = 0.2 + (data['friction']-min(data['friction']))/data_range\n",
    "    return data"
   ]
  },
  {
   "cell_type": "markdown",
   "metadata": {},
   "source": [
    "# The experimental design"
   ]
  },
  {
   "cell_type": "code",
   "execution_count": 2,
   "metadata": {},
   "outputs": [
    {
     "name": "stdout",
     "output_type": "stream",
     "text": [
      "[[0. 0. 0. 0. 0.]\n",
      " [1. 0. 0. 0. 0.]\n",
      " [0. 1. 0. 0. 0.]\n",
      " [1. 1. 0. 0. 0.]\n",
      " [0. 0. 1. 0. 0.]\n",
      " [1. 0. 1. 0. 0.]\n",
      " [0. 1. 1. 0. 0.]\n",
      " [1. 1. 1. 0. 0.]\n",
      " [0. 0. 0. 1. 0.]\n",
      " [1. 0. 0. 1. 0.]\n",
      " [0. 1. 0. 1. 0.]\n",
      " [1. 1. 0. 1. 0.]\n",
      " [0. 0. 1. 1. 0.]\n",
      " [1. 0. 1. 1. 0.]\n",
      " [0. 1. 1. 1. 0.]\n",
      " [1. 1. 1. 1. 0.]\n",
      " [0. 0. 0. 0. 1.]\n",
      " [1. 0. 0. 0. 1.]\n",
      " [0. 1. 0. 0. 1.]\n",
      " [1. 1. 0. 0. 1.]\n",
      " [0. 0. 1. 0. 1.]\n",
      " [1. 0. 1. 0. 1.]\n",
      " [0. 1. 1. 0. 1.]\n",
      " [1. 1. 1. 0. 1.]\n",
      " [0. 0. 0. 1. 1.]\n",
      " [1. 0. 0. 1. 1.]\n",
      " [0. 1. 0. 1. 1.]\n",
      " [1. 1. 0. 1. 1.]\n",
      " [0. 0. 1. 1. 1.]\n",
      " [1. 0. 1. 1. 1.]\n",
      " [0. 1. 1. 1. 1.]\n",
      " [1. 1. 1. 1. 1.]] \n",
      " 32\n"
     ]
    }
   ],
   "source": [
    "design = doe.fullfact([2]*5)\n",
    "print(design, '\\n', len(design))"
   ]
  },
  {
   "cell_type": "markdown",
   "metadata": {},
   "source": [
    "# The results table\n",
    "We will use this design to fill in some dummy data for the results"
   ]
  },
  {
   "cell_type": "code",
   "execution_count": 3,
   "metadata": {},
   "outputs": [
    {
     "data": {
      "text/html": [
       "<div>\n",
       "<style scoped>\n",
       "    .dataframe tbody tr th:only-of-type {\n",
       "        vertical-align: middle;\n",
       "    }\n",
       "\n",
       "    .dataframe tbody tr th {\n",
       "        vertical-align: top;\n",
       "    }\n",
       "\n",
       "    .dataframe thead th {\n",
       "        text-align: right;\n",
       "    }\n",
       "</style>\n",
       "<table border=\"1\" class=\"dataframe\">\n",
       "  <thead>\n",
       "    <tr style=\"text-align: right;\">\n",
       "      <th></th>\n",
       "      <th>temperature</th>\n",
       "      <th>force</th>\n",
       "      <th>humidity</th>\n",
       "      <th>lubricant</th>\n",
       "      <th>hardness</th>\n",
       "      <th>friction</th>\n",
       "    </tr>\n",
       "  </thead>\n",
       "  <tbody>\n",
       "    <tr>\n",
       "      <th>0</th>\n",
       "      <td>20.0</td>\n",
       "      <td>10.0</td>\n",
       "      <td>0.0</td>\n",
       "      <td>1.0</td>\n",
       "      <td>5.0</td>\n",
       "      <td>0.293092</td>\n",
       "    </tr>\n",
       "    <tr>\n",
       "      <th>1</th>\n",
       "      <td>25.0</td>\n",
       "      <td>10.0</td>\n",
       "      <td>0.0</td>\n",
       "      <td>1.0</td>\n",
       "      <td>5.0</td>\n",
       "      <td>0.213712</td>\n",
       "    </tr>\n",
       "    <tr>\n",
       "      <th>2</th>\n",
       "      <td>20.0</td>\n",
       "      <td>100.0</td>\n",
       "      <td>0.0</td>\n",
       "      <td>1.0</td>\n",
       "      <td>5.0</td>\n",
       "      <td>1.192783</td>\n",
       "    </tr>\n",
       "    <tr>\n",
       "      <th>3</th>\n",
       "      <td>25.0</td>\n",
       "      <td>100.0</td>\n",
       "      <td>0.0</td>\n",
       "      <td>1.0</td>\n",
       "      <td>5.0</td>\n",
       "      <td>1.121065</td>\n",
       "    </tr>\n",
       "    <tr>\n",
       "      <th>4</th>\n",
       "      <td>20.0</td>\n",
       "      <td>10.0</td>\n",
       "      <td>1.0</td>\n",
       "      <td>1.0</td>\n",
       "      <td>5.0</td>\n",
       "      <td>0.277675</td>\n",
       "    </tr>\n",
       "    <tr>\n",
       "      <th>5</th>\n",
       "      <td>25.0</td>\n",
       "      <td>10.0</td>\n",
       "      <td>1.0</td>\n",
       "      <td>1.0</td>\n",
       "      <td>5.0</td>\n",
       "      <td>0.242083</td>\n",
       "    </tr>\n",
       "    <tr>\n",
       "      <th>6</th>\n",
       "      <td>20.0</td>\n",
       "      <td>100.0</td>\n",
       "      <td>1.0</td>\n",
       "      <td>1.0</td>\n",
       "      <td>5.0</td>\n",
       "      <td>1.163973</td>\n",
       "    </tr>\n",
       "    <tr>\n",
       "      <th>7</th>\n",
       "      <td>25.0</td>\n",
       "      <td>100.0</td>\n",
       "      <td>1.0</td>\n",
       "      <td>1.0</td>\n",
       "      <td>5.0</td>\n",
       "      <td>1.140338</td>\n",
       "    </tr>\n",
       "    <tr>\n",
       "      <th>8</th>\n",
       "      <td>20.0</td>\n",
       "      <td>10.0</td>\n",
       "      <td>0.0</td>\n",
       "      <td>2.0</td>\n",
       "      <td>5.0</td>\n",
       "      <td>0.316854</td>\n",
       "    </tr>\n",
       "    <tr>\n",
       "      <th>9</th>\n",
       "      <td>25.0</td>\n",
       "      <td>10.0</td>\n",
       "      <td>0.0</td>\n",
       "      <td>2.0</td>\n",
       "      <td>5.0</td>\n",
       "      <td>0.273495</td>\n",
       "    </tr>\n",
       "    <tr>\n",
       "      <th>10</th>\n",
       "      <td>20.0</td>\n",
       "      <td>100.0</td>\n",
       "      <td>0.0</td>\n",
       "      <td>2.0</td>\n",
       "      <td>5.0</td>\n",
       "      <td>1.167601</td>\n",
       "    </tr>\n",
       "    <tr>\n",
       "      <th>11</th>\n",
       "      <td>25.0</td>\n",
       "      <td>100.0</td>\n",
       "      <td>0.0</td>\n",
       "      <td>2.0</td>\n",
       "      <td>5.0</td>\n",
       "      <td>1.161296</td>\n",
       "    </tr>\n",
       "    <tr>\n",
       "      <th>12</th>\n",
       "      <td>20.0</td>\n",
       "      <td>10.0</td>\n",
       "      <td>1.0</td>\n",
       "      <td>2.0</td>\n",
       "      <td>5.0</td>\n",
       "      <td>0.287904</td>\n",
       "    </tr>\n",
       "    <tr>\n",
       "      <th>13</th>\n",
       "      <td>25.0</td>\n",
       "      <td>10.0</td>\n",
       "      <td>1.0</td>\n",
       "      <td>2.0</td>\n",
       "      <td>5.0</td>\n",
       "      <td>0.213169</td>\n",
       "    </tr>\n",
       "    <tr>\n",
       "      <th>14</th>\n",
       "      <td>20.0</td>\n",
       "      <td>100.0</td>\n",
       "      <td>1.0</td>\n",
       "      <td>2.0</td>\n",
       "      <td>5.0</td>\n",
       "      <td>1.186591</td>\n",
       "    </tr>\n",
       "    <tr>\n",
       "      <th>15</th>\n",
       "      <td>25.0</td>\n",
       "      <td>100.0</td>\n",
       "      <td>1.0</td>\n",
       "      <td>2.0</td>\n",
       "      <td>5.0</td>\n",
       "      <td>1.107184</td>\n",
       "    </tr>\n",
       "    <tr>\n",
       "      <th>16</th>\n",
       "      <td>20.0</td>\n",
       "      <td>10.0</td>\n",
       "      <td>0.0</td>\n",
       "      <td>1.0</td>\n",
       "      <td>25.0</td>\n",
       "      <td>0.314588</td>\n",
       "    </tr>\n",
       "    <tr>\n",
       "      <th>17</th>\n",
       "      <td>25.0</td>\n",
       "      <td>10.0</td>\n",
       "      <td>0.0</td>\n",
       "      <td>1.0</td>\n",
       "      <td>25.0</td>\n",
       "      <td>0.200000</td>\n",
       "    </tr>\n",
       "    <tr>\n",
       "      <th>18</th>\n",
       "      <td>20.0</td>\n",
       "      <td>100.0</td>\n",
       "      <td>0.0</td>\n",
       "      <td>1.0</td>\n",
       "      <td>25.0</td>\n",
       "      <td>1.200000</td>\n",
       "    </tr>\n",
       "    <tr>\n",
       "      <th>19</th>\n",
       "      <td>25.0</td>\n",
       "      <td>100.0</td>\n",
       "      <td>0.0</td>\n",
       "      <td>1.0</td>\n",
       "      <td>25.0</td>\n",
       "      <td>1.098807</td>\n",
       "    </tr>\n",
       "    <tr>\n",
       "      <th>20</th>\n",
       "      <td>20.0</td>\n",
       "      <td>10.0</td>\n",
       "      <td>1.0</td>\n",
       "      <td>1.0</td>\n",
       "      <td>25.0</td>\n",
       "      <td>0.296991</td>\n",
       "    </tr>\n",
       "    <tr>\n",
       "      <th>21</th>\n",
       "      <td>25.0</td>\n",
       "      <td>10.0</td>\n",
       "      <td>1.0</td>\n",
       "      <td>1.0</td>\n",
       "      <td>25.0</td>\n",
       "      <td>0.205411</td>\n",
       "    </tr>\n",
       "    <tr>\n",
       "      <th>22</th>\n",
       "      <td>20.0</td>\n",
       "      <td>100.0</td>\n",
       "      <td>1.0</td>\n",
       "      <td>1.0</td>\n",
       "      <td>25.0</td>\n",
       "      <td>1.137165</td>\n",
       "    </tr>\n",
       "    <tr>\n",
       "      <th>23</th>\n",
       "      <td>25.0</td>\n",
       "      <td>100.0</td>\n",
       "      <td>1.0</td>\n",
       "      <td>1.0</td>\n",
       "      <td>25.0</td>\n",
       "      <td>1.163876</td>\n",
       "    </tr>\n",
       "    <tr>\n",
       "      <th>24</th>\n",
       "      <td>20.0</td>\n",
       "      <td>10.0</td>\n",
       "      <td>0.0</td>\n",
       "      <td>2.0</td>\n",
       "      <td>25.0</td>\n",
       "      <td>0.273459</td>\n",
       "    </tr>\n",
       "    <tr>\n",
       "      <th>25</th>\n",
       "      <td>25.0</td>\n",
       "      <td>10.0</td>\n",
       "      <td>0.0</td>\n",
       "      <td>2.0</td>\n",
       "      <td>25.0</td>\n",
       "      <td>0.232215</td>\n",
       "    </tr>\n",
       "    <tr>\n",
       "      <th>26</th>\n",
       "      <td>20.0</td>\n",
       "      <td>100.0</td>\n",
       "      <td>0.0</td>\n",
       "      <td>2.0</td>\n",
       "      <td>25.0</td>\n",
       "      <td>1.158776</td>\n",
       "    </tr>\n",
       "    <tr>\n",
       "      <th>27</th>\n",
       "      <td>25.0</td>\n",
       "      <td>100.0</td>\n",
       "      <td>0.0</td>\n",
       "      <td>2.0</td>\n",
       "      <td>25.0</td>\n",
       "      <td>1.124908</td>\n",
       "    </tr>\n",
       "    <tr>\n",
       "      <th>28</th>\n",
       "      <td>20.0</td>\n",
       "      <td>10.0</td>\n",
       "      <td>1.0</td>\n",
       "      <td>2.0</td>\n",
       "      <td>25.0</td>\n",
       "      <td>0.297996</td>\n",
       "    </tr>\n",
       "    <tr>\n",
       "      <th>29</th>\n",
       "      <td>25.0</td>\n",
       "      <td>10.0</td>\n",
       "      <td>1.0</td>\n",
       "      <td>2.0</td>\n",
       "      <td>25.0</td>\n",
       "      <td>0.200509</td>\n",
       "    </tr>\n",
       "    <tr>\n",
       "      <th>30</th>\n",
       "      <td>20.0</td>\n",
       "      <td>100.0</td>\n",
       "      <td>1.0</td>\n",
       "      <td>2.0</td>\n",
       "      <td>25.0</td>\n",
       "      <td>1.130547</td>\n",
       "    </tr>\n",
       "    <tr>\n",
       "      <th>31</th>\n",
       "      <td>25.0</td>\n",
       "      <td>100.0</td>\n",
       "      <td>1.0</td>\n",
       "      <td>2.0</td>\n",
       "      <td>25.0</td>\n",
       "      <td>1.134002</td>\n",
       "    </tr>\n",
       "  </tbody>\n",
       "</table>\n",
       "</div>"
      ],
      "text/plain": [
       "    temperature  force  humidity  lubricant  hardness  friction\n",
       "0          20.0   10.0       0.0        1.0       5.0  0.293092\n",
       "1          25.0   10.0       0.0        1.0       5.0  0.213712\n",
       "2          20.0  100.0       0.0        1.0       5.0  1.192783\n",
       "3          25.0  100.0       0.0        1.0       5.0  1.121065\n",
       "4          20.0   10.0       1.0        1.0       5.0  0.277675\n",
       "5          25.0   10.0       1.0        1.0       5.0  0.242083\n",
       "6          20.0  100.0       1.0        1.0       5.0  1.163973\n",
       "7          25.0  100.0       1.0        1.0       5.0  1.140338\n",
       "8          20.0   10.0       0.0        2.0       5.0  0.316854\n",
       "9          25.0   10.0       0.0        2.0       5.0  0.273495\n",
       "10         20.0  100.0       0.0        2.0       5.0  1.167601\n",
       "11         25.0  100.0       0.0        2.0       5.0  1.161296\n",
       "12         20.0   10.0       1.0        2.0       5.0  0.287904\n",
       "13         25.0   10.0       1.0        2.0       5.0  0.213169\n",
       "14         20.0  100.0       1.0        2.0       5.0  1.186591\n",
       "15         25.0  100.0       1.0        2.0       5.0  1.107184\n",
       "16         20.0   10.0       0.0        1.0      25.0  0.314588\n",
       "17         25.0   10.0       0.0        1.0      25.0  0.200000\n",
       "18         20.0  100.0       0.0        1.0      25.0  1.200000\n",
       "19         25.0  100.0       0.0        1.0      25.0  1.098807\n",
       "20         20.0   10.0       1.0        1.0      25.0  0.296991\n",
       "21         25.0   10.0       1.0        1.0      25.0  0.205411\n",
       "22         20.0  100.0       1.0        1.0      25.0  1.137165\n",
       "23         25.0  100.0       1.0        1.0      25.0  1.163876\n",
       "24         20.0   10.0       0.0        2.0      25.0  0.273459\n",
       "25         25.0   10.0       0.0        2.0      25.0  0.232215\n",
       "26         20.0  100.0       0.0        2.0      25.0  1.158776\n",
       "27         25.0  100.0       0.0        2.0      25.0  1.124908\n",
       "28         20.0   10.0       1.0        2.0      25.0  0.297996\n",
       "29         25.0   10.0       1.0        2.0      25.0  0.200509\n",
       "30         20.0  100.0       1.0        2.0      25.0  1.130547\n",
       "31         25.0  100.0       1.0        2.0      25.0  1.134002"
      ]
     },
     "metadata": {},
     "output_type": "display_data"
    }
   ],
   "source": [
    "data = fill_in_design(design)\n",
    "display(data)"
   ]
  },
  {
   "cell_type": "markdown",
   "metadata": {},
   "source": [
    "# Plotting the results\n",
    "The first thing to do is plot the result, this will immediately show you if there are any crazy things going on, don't just blindly trust the data!"
   ]
  },
  {
   "cell_type": "code",
   "execution_count": 4,
   "metadata": {},
   "outputs": [
    {
     "data": {
      "text/plain": [
       "<seaborn.axisgrid.PairGrid at 0x2451c5a0448>"
      ]
     },
     "execution_count": 4,
     "metadata": {},
     "output_type": "execute_result"
    },
    {
     "data": {
      "image/png": "[encoded data removed]",
      "text/plain": [
       "<Figure size 900x180 with 5 Axes>"
      ]
     },
     "metadata": {
      "needs_background": "light"
     },
     "output_type": "display_data"
    }
   ],
   "source": [
    "sns.pairplot(data, y_vars=\"friction\", x_vars=data.columns.values[:-1], kind='reg')\n"
   ]
  },
  {
   "cell_type": "markdown",
   "metadata": {},
   "source": [
    "# Modelling the data"
   ]
  },
  {
   "cell_type": "code",
   "execution_count": 5,
   "metadata": {},
   "outputs": [
    {
     "name": "stdout",
     "output_type": "stream",
     "text": [
      "                            OLS Regression Results                            \n",
      "==============================================================================\n",
      "Dep. Variable:               friction   R-squared:                       0.998\n",
      "Model:                            OLS   Adj. R-squared:                  0.997\n",
      "Method:                 Least Squares   F-statistic:                     2172.\n",
      "Date:                Sun, 01 Mar 2020   Prob (F-statistic):           3.31e-33\n",
      "Time:                        15:32:08   Log-Likelihood:                 76.975\n",
      "No. Observations:                  32   AIC:                            -142.0\n",
      "Df Residuals:                      26   BIC:                            -133.2\n",
      "Df Model:                           5                                         \n",
      "Covariance Type:            nonrobust                                         \n",
      "===============================================================================\n",
      "                  coef    std err          t      P>|t|      [0.025      0.975]\n",
      "-------------------------------------------------------------------------------\n",
      "Intercept       0.4161      0.042      9.931      0.000       0.330       0.502\n",
      "force           0.0099   9.51e-05    104.009      0.000       0.010       0.010\n",
      "temperature    -0.0108      0.002     -6.306      0.000      -0.014      -0.007\n",
      "humidity       -0.0098      0.009     -1.148      0.262      -0.027       0.008\n",
      "lubricant       0.0003      0.009      0.036      0.971      -0.017       0.018\n",
      "hardness       -0.0006      0.000     -1.384      0.178      -0.001       0.000\n",
      "==============================================================================\n",
      "Omnibus:                        1.878   Durbin-Watson:                   2.851\n",
      "Prob(Omnibus):                  0.391   Jarque-Bera (JB):                1.488\n",
      "Skew:                           0.352   Prob(JB):                        0.475\n",
      "Kurtosis:                       2.212   Cond. No.                         729.\n",
      "==============================================================================\n",
      "\n",
      "Warnings:\n",
      "[1] Standard Errors assume that the covariance matrix of the errors is correctly specified.\n"
     ]
    }
   ],
   "source": [
    "model = smf.ols(formula='friction ~ force + temperature + humidity + lubricant + hardness', \n",
    "                data=data)\n",
    "results = model.fit()\n",
    "print(results.summary())"
   ]
  },
  {
   "cell_type": "code",
   "execution_count": 6,
   "metadata": {},
   "outputs": [
    {
     "data": {
      "text/plain": [
       "Text(0, 0.5, 'Fitted values')"
      ]
     },
     "execution_count": 6,
     "metadata": {},
     "output_type": "execute_result"
    },
    {
     "data": {
      "image/png": "[encoded data removed]",
      "text/plain": [
       "<Figure size 432x288 with 1 Axes>"
      ]
     },
     "metadata": {
      "needs_background": "light"
     },
     "output_type": "display_data"
    }
   ],
   "source": [
    "preds = results.predict(data)\n",
    "ax = sns.scatterplot(data['friction'], preds)\n",
    "ax.set_xlabel('Actual values')\n",
    "ax.set_ylabel('Fitted values')"
   ]
  },
  {
   "cell_type": "code",
   "execution_count": 7,
   "metadata": {},
   "outputs": [
    {
     "data": {
      "image/png": "[encoded data removed]",
      "text/plain": [
       "<Figure size 432x288 with 1 Axes>"
      ]
     },
     "metadata": {
      "needs_background": "light"
     },
     "output_type": "display_data"
    }
   ],
   "source": [
    "ax = smg.gofplots.qqplot(results.resid)"
   ]
  },
  {
   "cell_type": "markdown",
   "metadata": {},
   "source": [
    "# Drawbacks\n",
    "- Little can be learnt about the system despite doing a lot of experiments\n",
    "- Many experiments are wasted if they cover factors that are not important\n",
    "- Every factor added at least doubles the number of experiments!\n",
    "- For a 2 level factor a linear model will always fit, no matter what the undelying function is"
   ]
  },
  {
   "cell_type": "markdown",
   "metadata": {},
   "source": [
    "# Trying again with a latin hyper cube design\n"
   ]
  },
  {
   "cell_type": "code",
   "execution_count": 8,
   "metadata": {},
   "outputs": [
    {
     "data": {
      "text/plain": [
       "array([[0.14462971, 0.95096485, 0.81849055, 0.52277907, 0.12959612],\n",
       "       [0.98064815, 0.01829924, 0.51691616, 0.27216787, 0.5513859 ],\n",
       "       [0.36211382, 0.18536683, 0.23513431, 0.65784009, 0.23170269],\n",
       "       [0.91161703, 0.67069883, 0.53592507, 0.8116741 , 0.19413706],\n",
       "       [0.48531111, 0.03805181, 0.97900152, 0.36354253, 0.86621449],\n",
       "       [0.44727583, 0.83682072, 0.93460745, 0.15137491, 0.3929147 ],\n",
       "       [0.19755092, 0.52934987, 0.17153775, 0.44572896, 0.73453485],\n",
       "       [0.71405305, 0.57242836, 0.35103462, 0.22338073, 0.47378017],\n",
       "       [0.84241822, 0.20578454, 0.84944746, 0.10426519, 0.90740543],\n",
       "       [0.66058139, 0.62932201, 0.01597194, 0.06327414, 0.69216335],\n",
       "       [0.7277348 , 0.59783933, 0.33887081, 0.92899171, 0.95369771],\n",
       "       [0.87318994, 0.41756065, 0.75603738, 0.82815602, 0.46003671],\n",
       "       [0.607016  , 0.23748268, 0.66768896, 0.15774136, 0.34107516],\n",
       "       [0.64551646, 0.93303127, 0.47470405, 0.02916251, 0.1172863 ],\n",
       "       [0.77976193, 0.30600242, 0.79226237, 0.03445721, 0.27296289],\n",
       "       [0.0307837 , 0.69356145, 0.45638235, 0.32620784, 0.77222072],\n",
       "       [0.9674178 , 0.78952958, 0.42525848, 0.62039368, 0.00111698],\n",
       "       [0.22059433, 0.75285425, 0.26105645, 0.90340917, 0.43616471],\n",
       "       [0.03328972, 0.35450106, 0.93874953, 0.59197965, 0.08955559],\n",
       "       [0.58417025, 0.34267895, 0.58728434, 0.54645479, 0.6352695 ],\n",
       "       [0.25022235, 0.99547755, 0.72597235, 0.48561107, 0.36101173],\n",
       "       [0.10265044, 0.09966162, 0.1123972 , 0.37532932, 0.60640086],\n",
       "       [0.39677616, 0.4467761 , 0.3933288 , 0.7430748 , 0.82453   ],\n",
       "       [0.0832962 , 0.5441559 , 0.04663848, 0.41192168, 0.0498801 ],\n",
       "       [0.7977514 , 0.12668275, 0.71632164, 0.768562  , 0.6686765 ],\n",
       "       [0.31520215, 0.47339423, 0.89349013, 0.70326401, 0.57089882],\n",
       "       [0.52888475, 0.8982781 , 0.20304811, 0.19445235, 0.8919287 ],\n",
       "       [0.30245789, 0.84610431, 0.64336478, 0.97874683, 0.17310005],\n",
       "       [0.53208807, 0.26194381, 0.07118249, 0.29972566, 0.50571972],\n",
       "       [0.87617272, 0.39801935, 0.28968111, 0.86285459, 0.98089379],\n",
       "       [0.15701772, 0.09217697, 0.12828965, 0.94665512, 0.78301761],\n",
       "       [0.43732036, 0.7441896 , 0.60380542, 0.64465064, 0.29720926]])"
      ]
     },
     "execution_count": 8,
     "metadata": {},
     "output_type": "execute_result"
    }
   ],
   "source": [
    "doe.lhs(5, 32)"
   ]
  },
  {
   "cell_type": "markdown",
   "metadata": {},
   "source": [
    "# The results table\n",
    "We will use this design to fill in some dummy data for the results"
   ]
  },
  {
   "cell_type": "code",
   "execution_count": 9,
   "metadata": {},
   "outputs": [
    {
     "data": {
      "text/html": [
       "<div>\n",
       "<style scoped>\n",
       "    .dataframe tbody tr th:only-of-type {\n",
       "        vertical-align: middle;\n",
       "    }\n",
       "\n",
       "    .dataframe tbody tr th {\n",
       "        vertical-align: top;\n",
       "    }\n",
       "\n",
       "    .dataframe thead th {\n",
       "        text-align: right;\n",
       "    }\n",
       "</style>\n",
       "<table border=\"1\" class=\"dataframe\">\n",
       "  <thead>\n",
       "    <tr style=\"text-align: right;\">\n",
       "      <th></th>\n",
       "      <th>temperature</th>\n",
       "      <th>force</th>\n",
       "      <th>humidity</th>\n",
       "      <th>lubricant</th>\n",
       "      <th>hardness</th>\n",
       "      <th>friction</th>\n",
       "    </tr>\n",
       "  </thead>\n",
       "  <tbody>\n",
       "    <tr>\n",
       "      <th>0</th>\n",
       "      <td>21.589983</td>\n",
       "      <td>73.071783</td>\n",
       "      <td>0.567662</td>\n",
       "      <td>1.004799</td>\n",
       "      <td>23.374479</td>\n",
       "      <td>0.896314</td>\n",
       "    </tr>\n",
       "    <tr>\n",
       "      <th>1</th>\n",
       "      <td>20.127878</td>\n",
       "      <td>91.726299</td>\n",
       "      <td>0.106745</td>\n",
       "      <td>1.798074</td>\n",
       "      <td>17.509510</td>\n",
       "      <td>1.181647</td>\n",
       "    </tr>\n",
       "    <tr>\n",
       "      <th>2</th>\n",
       "      <td>24.853525</td>\n",
       "      <td>52.716352</td>\n",
       "      <td>0.994508</td>\n",
       "      <td>1.847294</td>\n",
       "      <td>8.840179</td>\n",
       "      <td>0.717528</td>\n",
       "    </tr>\n",
       "    <tr>\n",
       "      <th>3</th>\n",
       "      <td>22.910823</td>\n",
       "      <td>12.020665</td>\n",
       "      <td>0.827555</td>\n",
       "      <td>1.158304</td>\n",
       "      <td>8.223924</td>\n",
       "      <td>0.222290</td>\n",
       "    </tr>\n",
       "    <tr>\n",
       "      <th>4</th>\n",
       "      <td>20.723793</td>\n",
       "      <td>18.678646</td>\n",
       "      <td>0.739641</td>\n",
       "      <td>1.432428</td>\n",
       "      <td>23.761653</td>\n",
       "      <td>0.293273</td>\n",
       "    </tr>\n",
       "    <tr>\n",
       "      <th>5</th>\n",
       "      <td>24.196657</td>\n",
       "      <td>23.779932</td>\n",
       "      <td>0.698639</td>\n",
       "      <td>1.815191</td>\n",
       "      <td>21.993212</td>\n",
       "      <td>0.311773</td>\n",
       "    </tr>\n",
       "    <tr>\n",
       "      <th>6</th>\n",
       "      <td>22.345464</td>\n",
       "      <td>99.647575</td>\n",
       "      <td>0.802206</td>\n",
       "      <td>1.768049</td>\n",
       "      <td>19.538013</td>\n",
       "      <td>1.175108</td>\n",
       "    </tr>\n",
       "    <tr>\n",
       "      <th>7</th>\n",
       "      <td>22.028689</td>\n",
       "      <td>84.836968</td>\n",
       "      <td>0.437375</td>\n",
       "      <td>1.748973</td>\n",
       "      <td>16.330891</td>\n",
       "      <td>0.979739</td>\n",
       "    </tr>\n",
       "    <tr>\n",
       "      <th>8</th>\n",
       "      <td>22.145545</td>\n",
       "      <td>41.296521</td>\n",
       "      <td>0.550452</td>\n",
       "      <td>1.630114</td>\n",
       "      <td>18.379420</td>\n",
       "      <td>0.512718</td>\n",
       "    </tr>\n",
       "    <tr>\n",
       "      <th>9</th>\n",
       "      <td>24.606727</td>\n",
       "      <td>70.766403</td>\n",
       "      <td>0.940708</td>\n",
       "      <td>1.274852</td>\n",
       "      <td>15.458304</td>\n",
       "      <td>0.903628</td>\n",
       "    </tr>\n",
       "    <tr>\n",
       "      <th>10</th>\n",
       "      <td>21.340912</td>\n",
       "      <td>51.327924</td>\n",
       "      <td>0.067960</td>\n",
       "      <td>1.671131</td>\n",
       "      <td>14.549514</td>\n",
       "      <td>0.728762</td>\n",
       "    </tr>\n",
       "    <tr>\n",
       "      <th>11</th>\n",
       "      <td>22.228572</td>\n",
       "      <td>17.915885</td>\n",
       "      <td>0.852926</td>\n",
       "      <td>1.144853</td>\n",
       "      <td>6.039835</td>\n",
       "      <td>0.299203</td>\n",
       "    </tr>\n",
       "    <tr>\n",
       "      <th>12</th>\n",
       "      <td>22.508177</td>\n",
       "      <td>87.596508</td>\n",
       "      <td>0.634529</td>\n",
       "      <td>1.212323</td>\n",
       "      <td>12.416469</td>\n",
       "      <td>1.077343</td>\n",
       "    </tr>\n",
       "    <tr>\n",
       "      <th>13</th>\n",
       "      <td>20.365057</td>\n",
       "      <td>44.713035</td>\n",
       "      <td>0.055442</td>\n",
       "      <td>1.883047</td>\n",
       "      <td>5.573140</td>\n",
       "      <td>0.604796</td>\n",
       "    </tr>\n",
       "    <tr>\n",
       "      <th>14</th>\n",
       "      <td>21.244333</td>\n",
       "      <td>64.579810</td>\n",
       "      <td>0.135793</td>\n",
       "      <td>1.490857</td>\n",
       "      <td>11.534819</td>\n",
       "      <td>0.839196</td>\n",
       "    </tr>\n",
       "    <tr>\n",
       "      <th>15</th>\n",
       "      <td>23.273867</td>\n",
       "      <td>74.737594</td>\n",
       "      <td>0.661562</td>\n",
       "      <td>1.063125</td>\n",
       "      <td>21.141365</td>\n",
       "      <td>0.905784</td>\n",
       "    </tr>\n",
       "    <tr>\n",
       "      <th>16</th>\n",
       "      <td>23.472643</td>\n",
       "      <td>40.321770</td>\n",
       "      <td>0.239299</td>\n",
       "      <td>1.237301</td>\n",
       "      <td>7.397326</td>\n",
       "      <td>0.487743</td>\n",
       "    </tr>\n",
       "    <tr>\n",
       "      <th>17</th>\n",
       "      <td>24.041979</td>\n",
       "      <td>48.805768</td>\n",
       "      <td>0.382605</td>\n",
       "      <td>1.507960</td>\n",
       "      <td>6.463844</td>\n",
       "      <td>0.597421</td>\n",
       "    </tr>\n",
       "    <tr>\n",
       "      <th>18</th>\n",
       "      <td>23.086423</td>\n",
       "      <td>91.091784</td>\n",
       "      <td>0.920207</td>\n",
       "      <td>1.040119</td>\n",
       "      <td>7.575551</td>\n",
       "      <td>1.117050</td>\n",
       "    </tr>\n",
       "    <tr>\n",
       "      <th>19</th>\n",
       "      <td>21.087236</td>\n",
       "      <td>33.219506</td>\n",
       "      <td>0.889711</td>\n",
       "      <td>1.704356</td>\n",
       "      <td>24.622590</td>\n",
       "      <td>0.487584</td>\n",
       "    </tr>\n",
       "    <tr>\n",
       "      <th>20</th>\n",
       "      <td>21.818767</td>\n",
       "      <td>96.584395</td>\n",
       "      <td>0.603376</td>\n",
       "      <td>1.588866</td>\n",
       "      <td>18.782166</td>\n",
       "      <td>1.200000</td>\n",
       "    </tr>\n",
       "    <tr>\n",
       "      <th>21</th>\n",
       "      <td>21.416255</td>\n",
       "      <td>77.614916</td>\n",
       "      <td>0.198116</td>\n",
       "      <td>1.461516</td>\n",
       "      <td>12.583996</td>\n",
       "      <td>0.970119</td>\n",
       "    </tr>\n",
       "    <tr>\n",
       "      <th>22</th>\n",
       "      <td>22.798818</td>\n",
       "      <td>58.831984</td>\n",
       "      <td>0.763714</td>\n",
       "      <td>1.924332</td>\n",
       "      <td>11.022217</td>\n",
       "      <td>0.751320</td>\n",
       "    </tr>\n",
       "    <tr>\n",
       "      <th>23</th>\n",
       "      <td>23.388883</td>\n",
       "      <td>14.338401</td>\n",
       "      <td>0.297680</td>\n",
       "      <td>1.986498</td>\n",
       "      <td>23.109856</td>\n",
       "      <td>0.200000</td>\n",
       "    </tr>\n",
       "    <tr>\n",
       "      <th>24</th>\n",
       "      <td>24.375188</td>\n",
       "      <td>57.577424</td>\n",
       "      <td>0.373173</td>\n",
       "      <td>1.320968</td>\n",
       "      <td>21.282691</td>\n",
       "      <td>0.696213</td>\n",
       "    </tr>\n",
       "    <tr>\n",
       "      <th>25</th>\n",
       "      <td>20.561074</td>\n",
       "      <td>27.042218</td>\n",
       "      <td>0.278421</td>\n",
       "      <td>1.358375</td>\n",
       "      <td>20.462691</td>\n",
       "      <td>0.407710</td>\n",
       "    </tr>\n",
       "    <tr>\n",
       "      <th>26</th>\n",
       "      <td>23.641502</td>\n",
       "      <td>61.488288</td>\n",
       "      <td>0.492545</td>\n",
       "      <td>1.963618</td>\n",
       "      <td>13.196453</td>\n",
       "      <td>0.700114</td>\n",
       "    </tr>\n",
       "    <tr>\n",
       "      <th>27</th>\n",
       "      <td>24.292168</td>\n",
       "      <td>67.841775</td>\n",
       "      <td>0.016447</td>\n",
       "      <td>1.299226</td>\n",
       "      <td>10.104723</td>\n",
       "      <td>0.901603</td>\n",
       "    </tr>\n",
       "    <tr>\n",
       "      <th>28</th>\n",
       "      <td>24.732178</td>\n",
       "      <td>38.068931</td>\n",
       "      <td>0.161154</td>\n",
       "      <td>1.544932</td>\n",
       "      <td>17.494786</td>\n",
       "      <td>0.507601</td>\n",
       "    </tr>\n",
       "    <tr>\n",
       "      <th>29</th>\n",
       "      <td>20.888075</td>\n",
       "      <td>30.377574</td>\n",
       "      <td>0.443515</td>\n",
       "      <td>1.113476</td>\n",
       "      <td>9.465546</td>\n",
       "      <td>0.415600</td>\n",
       "    </tr>\n",
       "    <tr>\n",
       "      <th>30</th>\n",
       "      <td>23.802453</td>\n",
       "      <td>82.393726</td>\n",
       "      <td>0.343411</td>\n",
       "      <td>1.617691</td>\n",
       "      <td>15.664192</td>\n",
       "      <td>1.000466</td>\n",
       "    </tr>\n",
       "    <tr>\n",
       "      <th>31</th>\n",
       "      <td>20.280790</td>\n",
       "      <td>25.980622</td>\n",
       "      <td>0.530184</td>\n",
       "      <td>1.392534</td>\n",
       "      <td>13.844463</td>\n",
       "      <td>0.333519</td>\n",
       "    </tr>\n",
       "  </tbody>\n",
       "</table>\n",
       "</div>"
      ],
      "text/plain": [
       "    temperature      force  humidity  lubricant   hardness  friction\n",
       "0     21.589983  73.071783  0.567662   1.004799  23.374479  0.896314\n",
       "1     20.127878  91.726299  0.106745   1.798074  17.509510  1.181647\n",
       "2     24.853525  52.716352  0.994508   1.847294   8.840179  0.717528\n",
       "3     22.910823  12.020665  0.827555   1.158304   8.223924  0.222290\n",
       "4     20.723793  18.678646  0.739641   1.432428  23.761653  0.293273\n",
       "5     24.196657  23.779932  0.698639   1.815191  21.993212  0.311773\n",
       "6     22.345464  99.647575  0.802206   1.768049  19.538013  1.175108\n",
       "7     22.028689  84.836968  0.437375   1.748973  16.330891  0.979739\n",
       "8     22.145545  41.296521  0.550452   1.630114  18.379420  0.512718\n",
       "9     24.606727  70.766403  0.940708   1.274852  15.458304  0.903628\n",
       "10    21.340912  51.327924  0.067960   1.671131  14.549514  0.728762\n",
       "11    22.228572  17.915885  0.852926   1.144853   6.039835  0.299203\n",
       "12    22.508177  87.596508  0.634529   1.212323  12.416469  1.077343\n",
       "13    20.365057  44.713035  0.055442   1.883047   5.573140  0.604796\n",
       "14    21.244333  64.579810  0.135793   1.490857  11.534819  0.839196\n",
       "15    23.273867  74.737594  0.661562   1.063125  21.141365  0.905784\n",
       "16    23.472643  40.321770  0.239299   1.237301   7.397326  0.487743\n",
       "17    24.041979  48.805768  0.382605   1.507960   6.463844  0.597421\n",
       "18    23.086423  91.091784  0.920207   1.040119   7.575551  1.117050\n",
       "19    21.087236  33.219506  0.889711   1.704356  24.622590  0.487584\n",
       "20    21.818767  96.584395  0.603376   1.588866  18.782166  1.200000\n",
       "21    21.416255  77.614916  0.198116   1.461516  12.583996  0.970119\n",
       "22    22.798818  58.831984  0.763714   1.924332  11.022217  0.751320\n",
       "23    23.388883  14.338401  0.297680   1.986498  23.109856  0.200000\n",
       "24    24.375188  57.577424  0.373173   1.320968  21.282691  0.696213\n",
       "25    20.561074  27.042218  0.278421   1.358375  20.462691  0.407710\n",
       "26    23.641502  61.488288  0.492545   1.963618  13.196453  0.700114\n",
       "27    24.292168  67.841775  0.016447   1.299226  10.104723  0.901603\n",
       "28    24.732178  38.068931  0.161154   1.544932  17.494786  0.507601\n",
       "29    20.888075  30.377574  0.443515   1.113476   9.465546  0.415600\n",
       "30    23.802453  82.393726  0.343411   1.617691  15.664192  1.000466\n",
       "31    20.280790  25.980622  0.530184   1.392534  13.844463  0.333519"
      ]
     },
     "metadata": {},
     "output_type": "display_data"
    }
   ],
   "source": [
    "data = fill_in_design(doe.lhs(5, 32))\n",
    "display(data)"
   ]
  },
  {
   "cell_type": "markdown",
   "metadata": {},
   "source": [
    "# Plotting the results\n",
    "The first thing to do is plot the result, this will immediately show you if there are any crazy things going on, don't just blindly trust the data!"
   ]
  },
  {
   "cell_type": "code",
   "execution_count": 10,
   "metadata": {},
   "outputs": [
    {
     "data": {
      "text/plain": [
       "<seaborn.axisgrid.PairGrid at 0x24521f189c8>"
      ]
     },
     "execution_count": 10,
     "metadata": {},
     "output_type": "execute_result"
    },
    {
     "data": {
      "image/png": "[encoded data removed]",
      "text/plain": [
       "<Figure size 900x180 with 5 Axes>"
      ]
     },
     "metadata": {
      "needs_background": "light"
     },
     "output_type": "display_data"
    }
   ],
   "source": [
    "sns.pairplot(data, y_vars=\"friction\", x_vars=data.columns.values[:-1], kind='reg')"
   ]
  },
  {
   "cell_type": "markdown",
   "metadata": {},
   "source": [
    "# Modelling the data"
   ]
  },
  {
   "cell_type": "code",
   "execution_count": 22,
   "metadata": {},
   "outputs": [
    {
     "name": "stdout",
     "output_type": "stream",
     "text": [
      "                            OLS Regression Results                            \n",
      "==============================================================================\n",
      "Dep. Variable:               friction   R-squared:                       0.988\n",
      "Model:                            OLS   Adj. R-squared:                  0.986\n",
      "Method:                 Least Squares   F-statistic:                     427.1\n",
      "Date:                Sun, 01 Mar 2020   Prob (F-statistic):           4.39e-24\n",
      "Time:                        15:34:00   Log-Likelihood:                 63.799\n",
      "No. Observations:                  32   AIC:                            -115.6\n",
      "Df Residuals:                      26   BIC:                            -106.8\n",
      "Df Model:                           5                                         \n",
      "Covariance Type:            nonrobust                                         \n",
      "===============================================================================\n",
      "                  coef    std err          t      P>|t|      [0.025      0.975]\n",
      "-------------------------------------------------------------------------------\n",
      "Intercept       0.2478      0.110      2.253      0.033       0.022       0.474\n",
      "force           0.0115      0.000     46.107      0.000       0.011       0.012\n",
      "temperature    -0.0068      0.005     -1.447      0.160      -0.016       0.003\n",
      "humidity       -0.0054      0.024     -0.228      0.821      -0.054       0.043\n",
      "lubricant      -0.0072      0.023     -0.312      0.758      -0.054       0.040\n",
      "hardness       -0.0010      0.001     -0.841      0.408      -0.003       0.001\n",
      "==============================================================================\n",
      "Omnibus:                        0.073   Durbin-Watson:                   1.492\n",
      "Prob(Omnibus):                  0.964   Jarque-Bera (JB):                0.288\n",
      "Skew:                          -0.023   Prob(JB):                        0.866\n",
      "Kurtosis:                       2.538   Cond. No.                     1.12e+03\n",
      "==============================================================================\n",
      "\n",
      "Warnings:\n",
      "[1] Standard Errors assume that the covariance matrix of the errors is correctly specified.\n",
      "[2] The condition number is large, 1.12e+03. This might indicate that there are\n",
      "strong multicollinearity or other numerical problems.\n"
     ]
    }
   ],
   "source": [
    "model = smf.ols(formula='friction ~ force + temperature + humidity + lubricant + hardness', \n",
    "                data=data)\n",
    "results = model.fit()\n",
    "print(results.summary())"
   ]
  },
  {
   "cell_type": "code",
   "execution_count": 23,
   "metadata": {},
   "outputs": [
    {
     "data": {
      "text/plain": [
       "Text(0, 0.5, 'Fitted values')"
      ]
     },
     "execution_count": 23,
     "metadata": {},
     "output_type": "execute_result"
    },
    {
     "data": {
      "image/png": "[encoded data removed]",
      "text/plain": [
       "<Figure size 432x288 with 1 Axes>"
      ]
     },
     "metadata": {
      "needs_background": "light"
     },
     "output_type": "display_data"
    }
   ],
   "source": [
    "preds = results.predict(data)\n",
    "ax = sns.scatterplot(data['friction'], preds)\n",
    "ax.set_xlabel('Actual values')\n",
    "ax.set_ylabel('Fitted values')"
   ]
  },
  {
   "cell_type": "code",
   "execution_count": 24,
   "metadata": {},
   "outputs": [
    {
     "data": {
      "image/png": "[encoded data removed]",
      "text/plain": [
       "<Figure size 432x288 with 1 Axes>"
      ]
     },
     "metadata": {
      "needs_background": "light"
     },
     "output_type": "display_data"
    }
   ],
   "source": [
    "ax = smg.gofplots.qqplot(results.resid)"
   ]
  },
  {
   "cell_type": "code",
   "execution_count": 25,
   "metadata": {},
   "outputs": [
    {
     "data": {
      "image/png": "[encoded data removed]",
      "text/plain": [
       "<Figure size 504x504 with 4 Axes>"
      ]
     },
     "metadata": {
      "needs_background": "light"
     },
     "output_type": "display_data"
    }
   ],
   "source": [
    "ax = smg.regressionplots.plot_regress_exog(results, 'humidity')\n",
    "plt.gcf().set_size_inches(7, 7)"
   ]
  },
  {
   "cell_type": "code",
   "execution_count": 15,
   "metadata": {},
   "outputs": [
    {
     "name": "stdout",
     "output_type": "stream",
     "text": [
      "                            OLS Regression Results                            \n",
      "==============================================================================\n",
      "Dep. Variable:               friction   R-squared:                       0.996\n",
      "Model:                            OLS   Adj. R-squared:                  0.995\n",
      "Method:                 Least Squares   F-statistic:                     1020.\n",
      "Date:                Sun, 01 Mar 2020   Prob (F-statistic):           1.28e-28\n",
      "Time:                        15:32:11   Log-Likelihood:                 81.139\n",
      "No. Observations:                  32   AIC:                            -148.3\n",
      "Df Residuals:                      25   BIC:                            -138.0\n",
      "Df Model:                           6                                         \n",
      "Covariance Type:            nonrobust                                         \n",
      "=========================================================================================\n",
      "                            coef    std err          t      P>|t|      [0.025      0.975]\n",
      "-----------------------------------------------------------------------------------------\n",
      "Intercept                 0.3328      0.066      5.015      0.000       0.196       0.469\n",
      "force                     0.0115      0.000     77.281      0.000       0.011       0.012\n",
      "temperature              -0.0077      0.003     -2.780      0.010      -0.013      -0.002\n",
      "np.power(humidity, 2)     0.3875      0.055      6.992      0.000       0.273       0.502\n",
      "humidity                 -0.3964      0.058     -6.878      0.000      -0.515      -0.278\n",
      "lubricant                -0.0219      0.014     -1.583      0.126      -0.050       0.007\n",
      "hardness                  0.0009      0.001      1.226      0.232      -0.001       0.002\n",
      "==============================================================================\n",
      "Omnibus:                        0.012   Durbin-Watson:                   2.063\n",
      "Prob(Omnibus):                  0.994   Jarque-Bera (JB):                0.150\n",
      "Skew:                          -0.041   Prob(JB):                        0.928\n",
      "Kurtosis:                       2.675   Cond. No.                     1.40e+03\n",
      "==============================================================================\n",
      "\n",
      "Warnings:\n",
      "[1] Standard Errors assume that the covariance matrix of the errors is correctly specified.\n",
      "[2] The condition number is large, 1.4e+03. This might indicate that there are\n",
      "strong multicollinearity or other numerical problems.\n"
     ]
    }
   ],
   "source": [
    "model = smf.ols(formula='friction ~ force + temperature + np.power(humidity,2) + humidity + lubricant + hardness', \n",
    "                data=data)\n",
    "results = model.fit()\n",
    "print(results.summary())"
   ]
  },
  {
   "cell_type": "code",
   "execution_count": 16,
   "metadata": {},
   "outputs": [
    {
     "data": {
      "text/plain": [
       "Text(0, 0.5, 'Fitted values')"
      ]
     },
     "execution_count": 16,
     "metadata": {},
     "output_type": "execute_result"
    },
    {
     "data": {
      "image/png": "[encoded data removed]",
      "text/plain": [
       "<Figure size 432x288 with 1 Axes>"
      ]
     },
     "metadata": {
      "needs_background": "light"
     },
     "output_type": "display_data"
    }
   ],
   "source": [
    "preds = results.predict(data)\n",
    "ax = sns.scatterplot(data['friction'], preds)\n",
    "ax.set_xlabel('Actual values')\n",
    "ax.set_ylabel('Fitted values')"
   ]
  },
  {
   "cell_type": "code",
   "execution_count": 17,
   "metadata": {},
   "outputs": [
    {
     "data": {
      "image/png": "[encoded data removed]",
      "text/plain": [
       "<Figure size 432x288 with 1 Axes>"
      ]
     },
     "metadata": {
      "needs_background": "light"
     },
     "output_type": "display_data"
    }
   ],
   "source": [
    "ax = smg.gofplots.qqplot(results.resid)"
   ]
  },
  {
   "cell_type": "markdown",
   "metadata": {},
   "source": [
    "# Advantages / disadvantages\n",
    "Pros\n",
    "- More information can be gained from an unknown system\n",
    "- Non linear behavious can be investigated more easily\n",
    "- Adding factors doesn't necessarily make the experiment bigger\\*\n",
    "\n",
    "Cons\n",
    "- Results must be analysed statistically\n",
    "- Results can be difficult to interpret\n",
    "- Lots of chance to fool yourself with fitting\n",
    "- Effective number of comparisons can be huge, bad for hypothesis testing!"
   ]
  },
  {
   "cell_type": "code",
   "execution_count": null,
   "metadata": {},
   "outputs": [],
   "source": []
  }
 ],
 "metadata": {
  "kernelspec": {
   "display_name": "Python 3",
   "language": "python",
   "name": "python3"
  },
  "language_info": {
   "codemirror_mode": {
    "name": "ipython",
    "version": 3
   },
   "file_extension": ".py",
   "mimetype": "text/x-python",
   "name": "python",
   "nbconvert_exporter": "python",
   "pygments_lexer": "ipython3",
   "version": "3.7.4"
  }
 },
 "nbformat": 4,
 "nbformat_minor": 2
}
